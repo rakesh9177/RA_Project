{
 "cells": [
  {
   "cell_type": "code",
   "execution_count": 11,
   "id": "e177425c-602c-42c3-8d92-7f01ab277d24",
   "metadata": {},
   "outputs": [],
   "source": [
    "import pandas as pd\n",
    "import re"
   ]
  },
  {
   "cell_type": "code",
   "execution_count": 163,
   "id": "fdef8b38-315f-4668-9602-93eb25bb3731",
   "metadata": {},
   "outputs": [],
   "source": [
    "df = pd.read_csv('Files/full_merge_advance_max_with_ethnicity_and_gender.csv')"
   ]
  },
  {
   "cell_type": "code",
   "execution_count": 164,
   "id": "a5901f66-c4a1-48d3-a449-b4434a9da752",
   "metadata": {},
   "outputs": [],
   "source": [
    "import spacy\n",
    "nlp = spacy.load(\"en_core_web_sm\")\n",
    "\n",
    "def get_editor_ent_nlp_to_at(text):\n",
    "    doc = nlp(text)\n",
    "    names = []\n",
    "    for d in doc.ents:\n",
    "        if f\"to {d.text} at\" in doc.text:\n",
    "            names.append(d.text)\n",
    "    return names\n",
    "\n",
    "def get_editor_ent_nlp_to(text):\n",
    "    doc = nlp(text)\n",
    "    names = []\n",
    "    for d in doc.ents:\n",
    "        if f\"to {d.text}\" in doc.text:\n",
    "            names.append(d.text)\n",
    "    return names\n",
    "\n",
    "def get_editor(df, column):\n",
    "\n",
    "    df['Editor'] = df[column].apply(lambda text : get_editor_ent_nlp_to_at(text))\n",
    "    df['Editor'] = df['Editor'].astype('str')\n",
    "    df['Editor'] = df['Editor'].str.slice(start=2, stop = -2)\n",
    "    \n",
    "    #temp_df = df[df['Editor'] =='']\n",
    "    #temp_df['Editor'] = temp_df[column].apply(lambda text : get_editor_ent_nlp_to(text))\n",
    "    #temp_df['Editor'] = temp_df['Editor'].astype('str')\n",
    "    #temp_df['Editor'] = temp_df['Editor'].str.slice(start=2, stop = -2)\n",
    "    df.loc[df['Editor'] == '', 'Editor']  = df.loc[df['Editor'] == '', 'All'].apply(lambda text : get_editor_ent_nlp_to(text))\n",
    "    #df = pd.merge(df, temp_df, on=['isbn13'])\n",
    "    return df"
   ]
  },
  {
   "cell_type": "code",
   "execution_count": 165,
   "id": "19ad23d3-41f2-4485-8917-7516a4bc0c95",
   "metadata": {},
   "outputs": [],
   "source": [
    "dx = get_editor(df, 'All')"
   ]
  },
  {
   "cell_type": "code",
   "execution_count": 166,
   "id": "ce1ae718-1a31-4741-b09f-6815d8499625",
   "metadata": {},
   "outputs": [],
   "source": [
    "dx.to_csv('Files/Editor_merge.csv')"
   ]
  },
  {
   "cell_type": "code",
   "execution_count": null,
   "id": "8f0b070c-d2a4-4643-9509-baf91a7a40eb",
   "metadata": {},
   "outputs": [],
   "source": []
  }
 ],
 "metadata": {
  "kernelspec": {
   "display_name": "Python 3",
   "language": "python",
   "name": "python3"
  },
  "language_info": {
   "codemirror_mode": {
    "name": "ipython",
    "version": 3
   },
   "file_extension": ".py",
   "mimetype": "text/x-python",
   "name": "python",
   "nbconvert_exporter": "python",
   "pygments_lexer": "ipython3",
   "version": "3.8.8"
  }
 },
 "nbformat": 4,
 "nbformat_minor": 5
}
