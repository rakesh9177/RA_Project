{
 "cells": [
  {
   "cell_type": "code",
   "execution_count": 11,
   "id": "e177425c-602c-42c3-8d92-7f01ab277d24",
   "metadata": {},
   "outputs": [],
   "source": [
    "import pandas as pd\n",
    "import re"
   ]
  },
  {
   "cell_type": "code",
   "execution_count": 114,
   "id": "fdef8b38-315f-4668-9602-93eb25bb3731",
   "metadata": {},
   "outputs": [],
   "source": [
    "df = pd.read_csv('Files/full_merge_advance_max_with_ethnicity_and_gender.csv')"
   ]
  },
  {
   "cell_type": "code",
   "execution_count": 115,
   "id": "dd856c34-90ac-4b01-81e9-b90f3ba9ad39",
   "metadata": {},
   "outputs": [],
   "source": [
    "df = df[['isbn13','All']]"
   ]
  },
  {
   "cell_type": "code",
   "execution_count": 158,
   "id": "a5901f66-c4a1-48d3-a449-b4434a9da752",
   "metadata": {},
   "outputs": [],
   "source": [
    "import spacy\n",
    "nlp = spacy.load(\"en_core_web_sm\")\n",
    "\n",
    "def get_editor_ent_nlp_to_at(text):\n",
    "    doc = nlp(text)\n",
    "    names = []\n",
    "    for d in doc.ents:\n",
    "        if f\"to {d.text} at\" in doc.text:\n",
    "            names.append(d.text)\n",
    "    return names\n",
    "\n",
    "def get_editor_ent_nlp_to(text):\n",
    "    doc = nlp(text)\n",
    "    names = []\n",
    "    for d in doc.ents:\n",
    "        if f\"to {d.text}\" in doc.text:\n",
    "            names.append(d.text)\n",
    "    return names\n",
    "\n",
    "def get_editor(df, column):\n",
    "\n",
    "    df['Editor'] = df[column].apply(lambda text : get_editor_ent_nlp_to_at(text))\n",
    "    df['Editor'] = df['Editor'].astype('str')\n",
    "    df['Editor'] = df['Editor'].str.slice(start=2, stop = -2)\n",
    "    \n",
    "    #temp_df = df[df['Editor'] =='']\n",
    "    #temp_df['Editor'] = temp_df[column].apply(lambda text : get_editor_ent_nlp_to(text))\n",
    "    #temp_df['Editor'] = temp_df['Editor'].astype('str')\n",
    "    #temp_df['Editor'] = temp_df['Editor'].str.slice(start=2, stop = -2)\n",
    "    df.loc[df['Editor'] == '', 'Editor']  = df.loc[df['Editor'] == '', 'All'].apply(lambda text : get_editor_ent_nlp_to(text))\n",
    "    #df = pd.merge(df, temp_df, on=['isbn13'])\n",
    "    return df"
   ]
  },
  {
   "cell_type": "code",
   "execution_count": 159,
   "id": "19ad23d3-41f2-4485-8917-7516a4bc0c95",
   "metadata": {},
   "outputs": [],
   "source": [
    "dx = get_editor(df, 'All')"
   ]
  },
  {
   "cell_type": "code",
   "execution_count": 149,
   "id": "bd3e86c1-aec5-44b3-80e7-b3a5b5ed159e",
   "metadata": {},
   "outputs": [],
   "source": [
    "dx.loc[dx['Editor'] == '', 'Editor']  = dx.loc[dx['Editor'] == '', 'All'].apply(lambda text : get_editor_ent_nlp_to(text))"
   ]
  },
  {
   "cell_type": "code",
   "execution_count": 157,
   "id": "472dac31-1d81-4488-b82b-3fa201a983c2",
   "metadata": {},
   "outputs": [
    {
     "data": {
      "text/plain": [
       "'Jennifer Brehl'"
      ]
     },
     "execution_count": 157,
     "metadata": {},
     "output_type": "execute_result"
    }
   ],
   "source": [
    "dx['Editor'][121]"
   ]
  },
  {
   "cell_type": "code",
   "execution_count": 1,
   "id": "fb448d9c-27b2-44e1-a4c3-8ec598ddca2c",
   "metadata": {},
   "outputs": [],
   "source": [
    "import spacy"
   ]
  },
  {
   "cell_type": "code",
   "execution_count": 8,
   "id": "e30f2695-d8f3-4cd5-8f0b-903031724ac8",
   "metadata": {},
   "outputs": [],
   "source": [
    "nlp = spacy.load(\"en_core_web_sm\")"
   ]
  },
  {
   "cell_type": "code",
   "execution_count": 21,
   "id": "4092edac-53aa-42f7-9635-4cd2d9f9adda",
   "metadata": {},
   "outputs": [
    {
     "data": {
      "text/plain": [
       "Polish rights to Hilary Mantel's A PLACE OF GREATER SAFETY, to Sonia Draga, in a nice deal, by Agata Zabowska at ANAW Literary Agency on behalf of Helene Ferey at A M Heath."
      ]
     },
     "execution_count": 21,
     "metadata": {},
     "output_type": "execute_result"
    }
   ],
   "source": [
    "doc"
   ]
  },
  {
   "cell_type": "code",
   "execution_count": 66,
   "id": "ec8df4cb-5e14-4f47-861f-ae20369045d2",
   "metadata": {},
   "outputs": [],
   "source": [
    "doc = nlp(text)"
   ]
  },
  {
   "cell_type": "code",
   "execution_count": 67,
   "id": "05c00478-fe5c-45a1-a2fe-189af0636e4e",
   "metadata": {},
   "outputs": [
    {
     "data": {
      "text/plain": [
       "(Sabaa Tahir's,\n",
       " two,\n",
       " Empire,\n",
       " The Washington Post,\n",
       " the Mojave Desert,\n",
       " Ben Schrank,\n",
       " Razorbill,\n",
       " Gillian Levinson,\n",
       " winter 2015,\n",
       " Alexandra Machinist,\n",
       " Janklow & Nesbit,\n",
       " English,\n",
       " Paramount Pictures,\n",
       " Mark Johnson,\n",
       " seven,\n",
       " Sally Willcox)"
      ]
     },
     "execution_count": 67,
     "metadata": {},
     "output_type": "execute_result"
    }
   ],
   "source": [
    "doc.ents"
   ]
  },
  {
   "cell_type": "code",
   "execution_count": 69,
   "id": "72d71ea0-1c9a-4863-80f5-d4823586090e",
   "metadata": {},
   "outputs": [],
   "source": [
    "def get_editor_name(text):\n",
    "    doc = nlp(text)\n",
    "    names = []\n",
    "    for d in doc.ents:\n",
    "        if f\"to {d.text} at\" in doc.text:\n",
    "            names.append(d.text)\n",
    "    return names\n",
    "        "
   ]
  },
  {
   "cell_type": "code",
   "execution_count": 70,
   "id": "b0db97b8-f022-4458-a926-c9a90461bf64",
   "metadata": {},
   "outputs": [],
   "source": [
    "df['Editor'] = df['All'].apply(lambda text : get_editor_name(text))"
   ]
  },
  {
   "cell_type": "code",
   "execution_count": 77,
   "id": "9f9fd2c3-f15e-43d2-ad9b-8abf7da13d65",
   "metadata": {},
   "outputs": [],
   "source": [
    "x = []\n",
    "df['Editor'] = df['Editor'].astype('str')"
   ]
  },
  {
   "cell_type": "code",
   "execution_count": 82,
   "id": "0aa6d1be-82d6-4252-8235-b6a572edab3d",
   "metadata": {},
   "outputs": [],
   "source": [
    "df['Editor'] = df['Editor'].str.slice(start=2, stop = -2)"
   ]
  },
  {
   "cell_type": "code",
   "execution_count": 101,
   "id": "5644a3c8-965b-4099-8132-d04aa155b3aa",
   "metadata": {},
   "outputs": [
    {
     "data": {
      "text/plain": [
       "\"University of Minnesota MFA graduate Liana Liu's debut THE MEMORY KEY, set in a five-minutes-into-the-future world, where, after a bad fall, a teenager remembers everything, perfectly, including suspicious details of her mother's death that seem to connect to the makers of the memory key technology now malfunctioning in her head, to Kristen Pettit in her first deal at Harper Children's, in a good deal, in a pre-empt, in a two-book deal, by Sarah Burnes and Logan Garrison at The Gernert Company (NA).\\nRights: wroberts@thegernertco.com\""
      ]
     },
     "execution_count": 101,
     "metadata": {},
     "output_type": "execute_result"
    }
   ],
   "source": [
    "df[df['Editor'] =='']['All'].unique()[10]"
   ]
  },
  {
   "cell_type": "code",
   "execution_count": null,
   "id": "8f0b070c-d2a4-4643-9509-baf91a7a40eb",
   "metadata": {},
   "outputs": [],
   "source": []
  }
 ],
 "metadata": {
  "kernelspec": {
   "display_name": "Python 3",
   "language": "python",
   "name": "python3"
  },
  "language_info": {
   "codemirror_mode": {
    "name": "ipython",
    "version": 3
   },
   "file_extension": ".py",
   "mimetype": "text/x-python",
   "name": "python",
   "nbconvert_exporter": "python",
   "pygments_lexer": "ipython3",
   "version": "3.8.8"
  }
 },
 "nbformat": 4,
 "nbformat_minor": 5
}
