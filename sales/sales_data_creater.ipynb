{
 "cells": [
  {
   "cell_type": "code",
   "execution_count": null,
   "id": "845dc8c1-94b5-4deb-b2f3-c8d0f2d27dd5",
   "metadata": {},
   "outputs": [],
   "source": [
    "import pandas as pd\n",
    "import os"
   ]
  },
  {
   "cell_type": "markdown",
   "id": "af1bfc82-86c8-4cee-8e5f-17630d07e889",
   "metadata": {},
   "source": [
    "## Aggregating data"
   ]
  },
  {
   "cell_type": "code",
   "execution_count": null,
   "id": "6552581b-078d-45ae-aa21-5731741c8b57",
   "metadata": {},
   "outputs": [],
   "source": [
    "df_sales = pd.read_csv(f'ebook/sales_ebook20170401_20170430.csv')\n",
    "for file in os.listdir('/home/rathod.rak/RA/sales/ebook/'):\n",
    "    if file =='sales_ebook20170401_20170430.csv':\n",
    "        continue\n",
    "    c =  pd.read_csv(f'ebook/{file}')\n",
    "    df_sales = pd.concat([df_sales,c], ignore_index=True, axis=0)\n",
    "    print(file)\n",
    "    \n",
    "df_sales.to_csv('ebook_sales.csv')"
   ]
  },
  {
   "cell_type": "markdown",
   "id": "f0767639-1ecd-45f2-8cd9-8dc473ae6a5f",
   "metadata": {},
   "source": [
    "## Sales data time series"
   ]
  },
  {
   "cell_type": "code",
   "execution_count": 12,
   "id": "cc3a336a-aa44-4d26-b5c1-0ea19a2d7430",
   "metadata": {},
   "outputs": [],
   "source": [
    "def ebook_time_series_aggregate():\n",
    "    i=0\n",
    "    for file in os.listdir('ebook/'):\n",
    "        d = pd.read_csv(f'ebook/{file}')\n",
    "        d = d.groupby('isbn13').agg({'totalrevenue':'sum'})\n",
    "        d['sales_month_year'] = file[-12:-6]\n",
    "        d['sales_month_year'] = pd.to_datetime(d['sales_month_year'], format='%Y%m')\n",
    "        if i==0:\n",
    "            xf = d\n",
    "            i+=1\n",
    "            continue\n",
    "        xf = pd.concat([xf, d])\n",
    "        print(f'{file} - processed')\n",
    "    return xf\n",
    "def printbook_time_series_aggregate():\n",
    "    i=0\n",
    "    for file in os.listdir('printbook/'):\n",
    "        d = pd.read_csv(f'printbook/{file}')\n",
    "        d = d.groupby('isbn13').agg({'totalrevenue':'sum'})\n",
    "        d['sales_month_year'] = file[-12:-6]\n",
    "        d['sales_month_year'] = pd.to_datetime(d['sales_month_year'], format='%Y%m')\n",
    "        if i==0:\n",
    "            xf = d\n",
    "            i+=1\n",
    "            continue\n",
    "        xf = pd.concat([xf, d])\n",
    "        print(f'{file} - processed')\n",
    "    return xf"
   ]
  },
  {
   "cell_type": "markdown",
   "id": "f8036a0b-ed2a-45a0-bc01-a17560f26e76",
   "metadata": {},
   "source": [
    "## Total aggregate sales data"
   ]
  },
  {
   "cell_type": "code",
   "execution_count": 13,
   "id": "d4892abd-2f38-424f-b65f-e4e11001567d",
   "metadata": {},
   "outputs": [],
   "source": [
    "def ebook_sales_aggregate():\n",
    "    sales = pd.read_csv('ebook_sales.csv') #contains all ebook sales data 12 GB\n",
    "    sales = pd.groupby('isbn13').agg({'totalrevenue':'sum'})\n",
    "    return sales\n",
    "\n",
    "def printbook_sales_aggregate():\n",
    "    sales = pd.read_csv('printbook_sales.csv') # contains all printbook sales data 11 GB\n",
    "    sales = pd.groupby('isbn13').agg({'totalrevenue':'sum'})\n",
    "    return sales"
   ]
  },
  {
   "cell_type": "code",
   "execution_count": null,
   "id": "59f1dbd2-9343-40ba-b0cc-76b9fb187d44",
   "metadata": {},
   "outputs": [],
   "source": []
  }
 ],
 "metadata": {
  "kernelspec": {
   "display_name": "Python 3",
   "language": "python",
   "name": "python3"
  },
  "language_info": {
   "codemirror_mode": {
    "name": "ipython",
    "version": 3
   },
   "file_extension": ".py",
   "mimetype": "text/x-python",
   "name": "python",
   "nbconvert_exporter": "python",
   "pygments_lexer": "ipython3",
   "version": "3.8.8"
  }
 },
 "nbformat": 4,
 "nbformat_minor": 5
}
