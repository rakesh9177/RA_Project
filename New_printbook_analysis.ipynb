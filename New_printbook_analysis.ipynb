{
 "cells": [
  {
   "cell_type": "code",
   "execution_count": 2,
   "metadata": {},
   "outputs": [],
   "source": [
    "from fuzzywuzzy import fuzz\n",
    "import numpy as np\n",
    "#import dask.dataframe as dd\n",
    "import re"
   ]
  },
  {
   "cell_type": "code",
   "execution_count": 3,
   "metadata": {},
   "outputs": [],
   "source": [
    "import pandas as pd\n",
    "\n",
    "#import dask.dataframe as dd\n",
    "\n",
    "def get_printbook_sales_data_with_dask():\n",
    "    \n",
    "    sales = pd.read_csv('sales/printbook_sales.csv', blocksize=10000)\n",
    "    sales= sales[~sales['isbn13'].isna()]\n",
    "    sales = sales[~sales['datepublished'].isna()]\n",
    "    sales = sales.compute().reset_index(drop=True)\n",
    "    sales['datepublished']  = pd.to_datetime(sales['datepublished'], errors = 'coerce')\n",
    "    #sales.rename(columns={'datepublished' : 'datepublished_sales_data'})\n",
    "    sales = sales[['totalunits', 'price', 'totalrevenue', 'isbn13', 'salesdate','datepublished']]\n",
    "    \n",
    "    #This is monthly revenue of books. Aggregating revenue by each book\n",
    "    sales = sales.groupby(['isbn13','datepublished'], as_index=False).agg({'totalrevenue':'sum', 'totalunits':'sum', 'price':'mean'})\n",
    "    \n",
    "    return sales\n",
    "\n",
    "def preprocess_original_sales_data(salesdata_path):\n",
    "    #salesdata_path for printbook is = sales/printbook_sales.csv\n",
    "    #salesdata_path for ebook is = sales/ebook_sales.csv\n",
    "    sales = pd.read_csv(salesdata_path)\n",
    "    sales= sales[~sales['isbn13'].isna()]\n",
    "    sales = sales[~sales['datepublished'].isna()]\n",
    "    sales.reset_index(drop=True, inplace=True)\n",
    "    sales['datepublished']  = pd.to_datetime(sales['datepublished'], errors = 'coerce')\n",
    "    #sales.rename(columns={'datepublished' : 'datepublished_sales_data'})\n",
    "    sales = sales[['totalunits', 'price', 'totalrevenue', 'isbn13', 'salesdate','datepublished']]\n",
    "    \n",
    "    #This is monthly revenue of books. Aggregating revenue by each book\n",
    "    sales = sales.groupby(['isbn13','datepublished'], as_index=False).agg({'totalrevenue':'sum', 'totalunits':'sum', 'price':'mean'})\n",
    "    \n",
    "    return sales\n",
    "\n",
    "def get_printbook_sales_data():\n",
    "    \n",
    "    sales = pd.read_csv('sales/Sales_aggregate_data.csv')\n",
    "    \n",
    "    return sales\n",
    "\n",
    "def get_advances_data():\n",
    "    \n",
    "    adv = pd.read_excel('author_advance_dataset.xlsx', index_col=0)\n",
    "    adv = adv[~adv['Advance'].isna()]\n",
    "    deals = {\n",
    "    'NICE' : (1+49000)/2,\n",
    "    'VERY NICE' : (50000 + 99000)/2,\n",
    "    'GOOD' : (100000 + 250000)/2,\n",
    "    'SIGNIFICANT' : (251000 + 499000)/2,\n",
    "    'MAJOR' : (500000 + 750000)/2\n",
    "    }\n",
    "    adv['Advance'] = adv['Advance'].replace(deals)\n",
    "\n",
    "    adv.reset_index(inplace=True)\n",
    "    adv.rename(columns={'index': 'advance_id'}, inplace=True) \n",
    "    return adv\n",
    "\n",
    "def get_printbook_title_data():\n",
    "    \n",
    "    book = pd.read_csv('books/booktitle_printbooks_new.csv')\n",
    "    book = book[['author','title','isbn13', 'datepublished']]\n",
    "    book['datepublished']  = pd.to_datetime(book['datepublished'], errors = 'coerce')\n",
    "    #book.rename(columns={'datepublished' : 'datepublished_booktitle_data'})\n",
    "    \n",
    "    #Get only the first published date for a given isbn13\n",
    "    book = book.sort_values('datepublished')\n",
    "    book = book.groupby('isbn13').first().reset_index()\n",
    "    \n",
    "    return book\n",
    "\n",
    "def get_Ebook_title_data():\n",
    "    \n",
    "    book = pd.read_csv('books/booktitle_ebook_new.csv')\n",
    "    book = book[['author','title','isbn13', 'datepublished']]\n",
    "    book['datepublished']  = pd.to_datetime(book['datepublished'], errors = 'coerce')\n",
    "    #book.rename(columns={'datepublished' : 'datepublished_booktitle_data'})\n",
    "    \n",
    "    #Get only the first published date for a given isbn13\n",
    "    book = book.sort_values('datepublished')\n",
    "    book = book.groupby('isbn13').first().reset_index()\n",
    "    \n",
    "    return book\n",
    "\n",
    "def get_merged_printbook_sales_and_booktitles():\n",
    "    \n",
    "    '''\n",
    "    sales colums = ['totalunits', 'price', 'totalrevenue', 'isbn13', 'salesdate','datepublished']\n",
    "    columns in printbook = ['author', 'title', 'isbn13', 'datepublished']\n",
    "    '''\n",
    "    sales = get_printbook_sales_data()\n",
    "    book = get_printbook_title_data()\n",
    "    merged_printbook_book = pd.merge(sales, book, on=['isbn13','datepublished'])\n",
    "    return merged_printbook_book\n",
    "\n",
    "def get_merged_advances_print_booktitles():\n",
    "    \n",
    "    '''\n",
    "    columns in adv = ['Rights Category', 'Genre', 'Date', 'Author(s)', 'Title', 'Publishers',\n",
    "       'Big Publishing House Affilation', 'Advance', 'Competition', 'Awards',\n",
    "       'Bestseller', 'Self Publishing', 'Debut', 'Series', 'All']\n",
    "       \n",
    "    columns in printbook = ['author', 'title', 'isbn13', 'datepublished']\n",
    "    '''\n",
    "    adv = get_advances_data()\n",
    "    book = get_printbook_title_data()\n",
    "    merged_adv_print_book = pd.merge(book, adv , left_on ='author' ,right_on='Author(s)')\n",
    "    \n",
    "    #get only the rows whose difference between advance date and pubished date is more than 90 days\n",
    "    merged_adv_print_book = merged_adv_print_book[(merged_adv_print_book['datepublished'] - merged_adv_print_book['Date']).dt.days >=90]\n",
    "    return merged_adv_print_book\n",
    "\n",
    "def get_merged_advances_Ebook_booktitles():\n",
    "    \n",
    "    '''\n",
    "    columns in adv = ['Rights Category', 'Genre', 'Date', 'Author(s)', 'Title', 'Publishers',\n",
    "       'Big Publishing House Affilation', 'Advance', 'Competition', 'Awards',\n",
    "       'Bestseller', 'Self Publishing', 'Debut', 'Series', 'All']\n",
    "       \n",
    "    columns in printbook = ['author', 'title', 'isbn13', 'datepublished']\n",
    "    '''\n",
    "    adv = get_advances_data()\n",
    "    book = get_Ebook_title_data()\n",
    "    merged_adv_ebook = pd.merge(book, adv , left_on ='author' ,right_on='Author(s)')\n",
    "    \n",
    "    #get only the rows whose difference between advance date and pubished date is more than 90 days\n",
    "    merged_adv_ebook = merged_adv_ebook[(merged_adv_ebook['datepublished'] - merged_adv_ebook['Date']).dt.days >=90]\n",
    "    return merged_adv_ebook\n",
    "\n",
    "def get_full_merged_advances_printbook_sales():\n",
    "    \n",
    "    merged_printbooksales_printbooktitles = get_merged_printbook_sales_and_booktitles()\n",
    "    merged_advances_printbooktitles = get_merged_advances_print_booktitles()\n",
    "    full_merge = pd.merge(merged_printbooksales_printbooktitles,\n",
    "                         merged_advances_printbooktitles,\n",
    "                         on=['isbn13', 'datepublished'])\n",
    "    return full_merge\n",
    "\n",
    "def get_preprocessed_full_merge_advance_printbook_sales(full_merge):\n",
    "    \n",
    "    #Filter out on if the datepublished and advance date has more than 90 day difference\n",
    "    full_merge = full_merge[(full_merge['datepublished'] - full_merge['Date']).dt.days >=90]\n",
    "\n",
    "    \n",
    "    #get rows for each isbn13\n",
    "    for d in full_merge['isbn13']:\n",
    "        fl = full_merge[full_merge['isbn13']==d]\n",
    "        #check if there are multiple values for that isbn13\n",
    "        if fl.shape[0] >1:\n",
    "            #check if fiction is a rights category among those\n",
    "            if (fl['Rights Category'] == 'Fiction').any():\n",
    "                #Keep the fiction one and drop the other ones\n",
    "                full_merge.drop(fl[fl['Rights Category'] != 'Fiction'].index,inplace=True)\n",
    "    \n",
    "    #Taking the max of right's category and keep that\n",
    "    max_advance_idx = full_merge.groupby('isbn13')['Advance'].idxmax()\n",
    "    full_merge = full_merge.loc[max_advance_idx]    \n",
    "    \n",
    "    return full_merge\n",
    "\n",
    "def perform_Dr_Samsun_Strategy_of_adding_advances(full_merge):\n",
    "    \n",
    "    grouped_merge = full_merge.groupby('isbn13', as_index=False).agg({'Advance': 'sum'})\n",
    "    full_merge = pd.merge(full_merge, grouped_merge, on='isbn13', how='left')\n",
    "    full_merge = full_merge.rename(columns={'Advance_y':'advance_amount_sum', 'Advance_x': 'Advance'})\n",
    "    return full_merge\n",
    "\n",
    "\n",
    "def levenshtein_ratio(s1, s2):\n",
    "    return fuzz.token_sort_ratio(s1, s2)\n",
    "\n",
    "def preprocess_based_on_title_Levenshtien_distance(merge_book_adv):\n",
    "\n",
    "    merge_book_adv['fuzz_ratio'] = merge_book_adv.apply(lambda x: levenshtein_ratio(str(x['title']).lower(), str(x['Title']).lower()), axis=1)\n",
    "    #max_ratio=merge_book_adv.groupby('advance_id', as_index=False)['fuzz_ratio'].max()\n",
    "    #df = pd.merge(max_ratio, merge_book_adv, on=['advance_id','fuzz_ratio'])\n",
    "\n",
    "    return merge_book_adv\n",
    "\n",
    "def pipeline(book_adv, sales):\n",
    "    #book_adv = get_merged_advances_print_booktitles()\n",
    "    #sales = pd.read_csv(sales_data_csv_path, index_col=0)\n",
    "    #get only books which has date difference of greater than 90 days and less than 4 years\n",
    "    book_adv = book_adv[((book_adv['datepublished'] - book_adv['Date']).dt.days >=90) & (((book_adv['datepublished'] - book_adv['Date']).dt.days <=1460))]\n",
    "\n",
    "    #get Levenshtiens distances for title match\n",
    "    book_adv['fuzz_ratio'] = book_adv.apply(lambda x: levenshtein_ratio(str(x['title']).lower(), str(x['Title']).lower()), axis=1)\n",
    "\n",
    "    #get books with highest match on titles\n",
    "    #book_adv = book_adv.groupby('isbn13', as_index=False).apply(lambda x : x.loc[x['fuzz_ratio'].idxmax()])\n",
    "    book_adv = book_adv.groupby('advance_id', as_index=False).apply(lambda x : x.loc[x['fuzz_ratio'].idxmax()])\n",
    "    #get books with least difference in publisheddate and advance date\n",
    "    book_adv = book_adv.groupby('isbn13', as_index=False).apply(lambda x: x.loc[(x['datepublished'] - x['Date']).dt.days.idxmin()])\n",
    "    book_adv['diff_days'] = (book_adv['datepublished'] - book_adv['Date']).dt.days\n",
    "    print(f'After preprocessing of merged book_adv, the count is {book_adv.shape}')\n",
    "    sales['datepublished'] = pd.to_datetime(sales['datepublished'])\n",
    "    #sales['Date'] = pd.to_datetime(sales['Date'])\n",
    "    #sales['diff_days'] = (sales['datepublished'] - sales['Date']).dt.days\n",
    "    \"\"\"\n",
    "    full_merge = pd.merge(sales, book_adv , left_on=['isbn13','datepublished','Date','Title','Genre',\n",
    "                                                     'Big Publishing House Affilation','Rights Category',\n",
    "                                                     'Author(s)','Publishers','All'], \n",
    "                          right_on=['isbn13','datepublished','Date','Title',\n",
    "                                    'Genre','Big Publishing House Affilation','Rights Category',\n",
    "                                    'Author(s)','Publishers','All'])\n",
    "    \"\"\"\n",
    "    full_merge = pd.merge(sales, book_adv, on=['isbn13','datepublished'])\n",
    "    \"\"\"\n",
    "    full_merge = full_merge[['isbn13', 'datepublished', 'totalrevenue', 'totalunits', 'price',\n",
    "        'Rights Category',\n",
    "       'Genre', 'Date', 'Author(s)', 'Title', 'Publishers',\n",
    "       'Big Publishing House Affilation', 'Competition_x',\n",
    "       'Awards_x', 'Bestseller_x', 'Self Publishing_x', 'Debut_x', 'Series_x',\n",
    "       'All', 'advance_amount_sum', 'author', 'title', 'advance_id',\n",
    "       'fuzz_ratio', 'diff_days','max_ratio']]\n",
    "    full_merge = full_merge.rename(columns={\n",
    "    'Competition_x': 'Competition' ,\n",
    "    'Awards_x' : 'Awards', \n",
    "    'Bestseller_x': 'Bestseller', \n",
    "    'Self Publishing_x':'Self Publishing', \n",
    "    'Debut_x': 'Debut', \n",
    "    'Series_x': 'Series'\n",
    "\n",
    "\n",
    "    })\"\"\"\n",
    "    print(f\"full_merge.shape - {full_merge.shape[0]} ,full_merge['isbn13'].unique() - {full_merge['isbn13'].unique().shape[0]}, full_merge['advance_id'].unique() -{full_merge['advance_id'].unique().shape[0]}  \")\n",
    "    assert(full_merge.shape[0] == full_merge['isbn13'].unique().shape[0] == full_merge['advance_id'].unique().shape[0])\n",
    "    return full_merge\n",
    "\n",
    "\n",
    "\n",
    "def Author_fuzzy_match(adv, book):\n",
    "    adv_data = adv['Author(s)'].unique()\n",
    "    book_data = book['Author'].unique()\n",
    "\n",
    "    data = []\n",
    "\n",
    "    for ad in adv_data:\n",
    "        st=''\n",
    "        max_ratio = 0\n",
    "        for bk in book_data:\n",
    "            ratio = fuzz.ratio(ad, bk)\n",
    "            if ratio > max_ratio:\n",
    "                max_ratio = ratio\n",
    "                st = bk\n",
    "        data.append([st, ad, max_ratio])\n",
    "    df = pd.DataFrame(data, columns=['author', 'Author(s)', 'max_ratio'])\n",
    "    \n",
    "    return df\n",
    "\n",
    "\n",
    "def get_author_fuzzy_match_data_between_advances_and_booktitle():\n",
    "    df = pd.read_csv('author_fuzzy_matches.csv', index_col=0)\n",
    "    '''\n",
    "    df = df.rename(columns={\n",
    "    'author':'Author(s)',\n",
    "    'Author(s)': 'author'\n",
    "    })\n",
    "    '''\n",
    "    return df"
   ]
  },
  {
   "cell_type": "code",
   "execution_count": 4,
   "metadata": {},
   "outputs": [],
   "source": [
    "def author_ethnicity(GSA):\n",
    "    from ethnicolr import pred_fl_reg_name\n",
    "    d = GSA.copy()\n",
    "    dg = preprocess_names(d, 'author')\n",
    "    d1 = dg.copy()\n",
    "    eth = pred_fl_reg_name(dg,'Last Name', 'First Name')\n",
    "    d1 = d1.merge(eth, on=[\n",
    "           'First Name', 'Last Name'])\n",
    "\n",
    "    d1 = d1.drop(d1.filter(like='_y').columns, axis=1)\n",
    "    d1.columns = [col.replace('_x', '') for col in d1.columns]\n",
    "    return d1\n",
    "\n",
    "def Google_Author_sales_advance_merge():\n",
    "    adv = get_advances_data()\n",
    "    adv = adv[(adv['Author(s)'] != 'NONE')]\n",
    "    adv_14 = adv[(adv['Date'] >='2014')]\n",
    "    \n",
    "    GAuthors = pd.read_csv('AuthorCrosswalkScraper/Google_Author_crosswalk_exact.csv', index_col=0)\n",
    "    rwords = ['[',']','\"',\"'\"]\n",
    "    for word in rwords:\n",
    "        GAuthors.loc[:, 'Author'] = GAuthors['Author'].str.replace(word,\"\")\n",
    "    GAuthors = GAuthors[~GAuthors['PublishedDate'].isin(['17-1', '101-', '200?', '19??', '199?'])]\n",
    "    GAuthors['PublishedDate'] = pd.to_datetime(GAuthors['PublishedDate'], format='%Y')\n",
    "    G17 = GAuthors.groupby('Author', as_index=False).apply(lambda x: x.loc[x['PublishedDate'].idxmin()])#[GAuthors['PublishedDate'] >='2017']\n",
    "    G17 = G17.rename(columns={\n",
    "    'Author':'author',\n",
    "    'Title':'title',\n",
    "    'PublishedDate':'datepublished',\n",
    "    'ISBN13':'isbn13'\n",
    "    })\n",
    "    \n",
    "    Gsales = pd.merge(G17,sales,on='isbn13')\n",
    "    GSA = pd.merge(Gsales, adv_14, left_on='author', right_on='Author(s)')\n",
    "    GSA['fuzz_ratio'] = GSA.apply(lambda x: levenshtein_ratio(str(x['title']).lower(), str(x['Title']).lower()), axis=1)\n",
    "    GSA = GSA.groupby('isbn13', as_index=False).apply(lambda x : x.loc[x['fuzz_ratio'].idxmax()])\n",
    "    GSA = GSA.groupby('advance_id', as_index=False).apply(lambda x : x.loc[x['fuzz_ratio'].idxmax()])\n",
    "    \n",
    "    d1 = author_ethnicity(GSA)\n",
    "    d1['diff_days'] = (d1['datepublished'] - d1['Date']).dt.days\n",
    "    d1 = d1[(d1['diff_days'] >=90) & (d1['diff_days'] <=1460)]\n",
    "    return d1\n",
    "    "
   ]
  },
  {
   "cell_type": "code",
   "execution_count": 48,
   "metadata": {},
   "outputs": [
    {
     "name": "stderr",
     "output_type": "stream",
     "text": [
      "<ipython-input-3-dcfd34122f8c>:61: DtypeWarning: Columns (26) have mixed types. Specify dtype option on import or set low_memory=False.\n",
      "  book = pd.read_csv('books/booktitle_printbooks_new.csv')\n"
     ]
    }
   ],
   "source": [
    "adv = get_advances_data()\n",
    "book = get_printbook_title_data()\n",
    "sales = pd.read_csv('sales/Sales_aggregate_data.csv')\n",
    "book_adv = pd.merge(book, adv, left_on='author', right_on='Author(s)')"
   ]
  },
  {
   "cell_type": "code",
   "execution_count": 75,
   "metadata": {},
   "outputs": [],
   "source": [
    "\n",
    "book_adv['datepublished'] = pd.to_datetime(book_adv['datepublished'])\n",
    "book_adv['diff_days'] = (book_adv['datepublished']-book_adv['Date']).dt.days\n",
    "book_adv= book_adv[~book_adv['datepublished'].isna()]\n",
    "book_adv = book_adv[(book_adv['diff_days'] >=90) & (book_adv['diff_days'] <=1460) ]\n",
    "book_adv['fuzz_ratio'] = book_adv.apply(lambda x: levenshtein_ratio(str(x['title']).lower(), str(x['Title']).lower()), axis=1)\n",
    "sales['datepublished'] = pd.to_datetime(sales['datepublished'])"
   ]
  },
  {
   "cell_type": "code",
   "execution_count": 76,
   "metadata": {},
   "outputs": [
    {
     "name": "stdout",
     "output_type": "stream",
     "text": [
      "(11719, 22) (3600,) (8204,)\n"
     ]
    }
   ],
   "source": [
    "print(book_adv.shape, book_adv['advance_id'].unique().shape, book_adv['isbn13'].unique().shape)"
   ]
  },
  {
   "cell_type": "code",
   "execution_count": 97,
   "metadata": {},
   "outputs": [
    {
     "data": {
      "text/html": [
       "<div>\n",
       "<style scoped>\n",
       "    .dataframe tbody tr th:only-of-type {\n",
       "        vertical-align: middle;\n",
       "    }\n",
       "\n",
       "    .dataframe tbody tr th {\n",
       "        vertical-align: top;\n",
       "    }\n",
       "\n",
       "    .dataframe thead th {\n",
       "        text-align: right;\n",
       "    }\n",
       "</style>\n",
       "<table border=\"1\" class=\"dataframe\">\n",
       "  <thead>\n",
       "    <tr style=\"text-align: right;\">\n",
       "      <th></th>\n",
       "      <th>isbn13</th>\n",
       "      <th>author</th>\n",
       "      <th>title</th>\n",
       "      <th>datepublished</th>\n",
       "      <th>advance_id</th>\n",
       "      <th>Rights Category</th>\n",
       "      <th>Genre</th>\n",
       "      <th>Date</th>\n",
       "      <th>Author(s)</th>\n",
       "      <th>Title</th>\n",
       "      <th>...</th>\n",
       "      <th>Advance</th>\n",
       "      <th>Competition</th>\n",
       "      <th>Awards</th>\n",
       "      <th>Bestseller</th>\n",
       "      <th>Self Publishing</th>\n",
       "      <th>Debut</th>\n",
       "      <th>Series</th>\n",
       "      <th>All</th>\n",
       "      <th>diff_days</th>\n",
       "      <th>fuzz_ratio</th>\n",
       "    </tr>\n",
       "  </thead>\n",
       "  <tbody>\n",
       "    <tr>\n",
       "      <th>9</th>\n",
       "      <td>9.780008e+12</td>\n",
       "      <td>Josh Malerman</td>\n",
       "      <td>Black Mad Wheel</td>\n",
       "      <td>2017-07-27</td>\n",
       "      <td>80059</td>\n",
       "      <td>Fiction</td>\n",
       "      <td>Sci-Fi/ Fantasy</td>\n",
       "      <td>2017-03-06</td>\n",
       "      <td>Josh Malerman</td>\n",
       "      <td>UNBURY CAROL</td>\n",
       "      <td>...</td>\n",
       "      <td>175000.0</td>\n",
       "      <td>YES</td>\n",
       "      <td>YES</td>\n",
       "      <td>NaN</td>\n",
       "      <td>NaN</td>\n",
       "      <td>NaN</td>\n",
       "      <td>NaN</td>\n",
       "      <td>Bram Stoker Award-nominee Josh Malerman's UNBU...</td>\n",
       "      <td>143</td>\n",
       "      <td>22</td>\n",
       "    </tr>\n",
       "    <tr>\n",
       "      <th>13</th>\n",
       "      <td>9.780399e+12</td>\n",
       "      <td>Josh Malerman</td>\n",
       "      <td>Unbury Carol: A Novel</td>\n",
       "      <td>2018-04-10</td>\n",
       "      <td>80059</td>\n",
       "      <td>Fiction</td>\n",
       "      <td>Sci-Fi/ Fantasy</td>\n",
       "      <td>2017-03-06</td>\n",
       "      <td>Josh Malerman</td>\n",
       "      <td>UNBURY CAROL</td>\n",
       "      <td>...</td>\n",
       "      <td>175000.0</td>\n",
       "      <td>YES</td>\n",
       "      <td>YES</td>\n",
       "      <td>NaN</td>\n",
       "      <td>NaN</td>\n",
       "      <td>NaN</td>\n",
       "      <td>NaN</td>\n",
       "      <td>Bram Stoker Award-nominee Josh Malerman's UNBU...</td>\n",
       "      <td>400</td>\n",
       "      <td>75</td>\n",
       "    </tr>\n",
       "    <tr>\n",
       "      <th>17</th>\n",
       "      <td>9.780399e+12</td>\n",
       "      <td>Josh Malerman</td>\n",
       "      <td>Unbury Carol: A Novel</td>\n",
       "      <td>2019-02-05</td>\n",
       "      <td>80059</td>\n",
       "      <td>Fiction</td>\n",
       "      <td>Sci-Fi/ Fantasy</td>\n",
       "      <td>2017-03-06</td>\n",
       "      <td>Josh Malerman</td>\n",
       "      <td>UNBURY CAROL</td>\n",
       "      <td>...</td>\n",
       "      <td>175000.0</td>\n",
       "      <td>YES</td>\n",
       "      <td>YES</td>\n",
       "      <td>NaN</td>\n",
       "      <td>NaN</td>\n",
       "      <td>NaN</td>\n",
       "      <td>NaN</td>\n",
       "      <td>Bram Stoker Award-nominee Josh Malerman's UNBU...</td>\n",
       "      <td>701</td>\n",
       "      <td>75</td>\n",
       "    </tr>\n",
       "    <tr>\n",
       "      <th>19</th>\n",
       "      <td>9.780593e+12</td>\n",
       "      <td>Josh Malerman</td>\n",
       "      <td>Malorie: A Novel</td>\n",
       "      <td>2020-07-21</td>\n",
       "      <td>45936</td>\n",
       "      <td>Fiction</td>\n",
       "      <td>General/ Other</td>\n",
       "      <td>2019-11-11</td>\n",
       "      <td>Josh Malerman</td>\n",
       "      <td>['SPIN A BLACK YARN', 'GOBLIN', 'A HOUSE AT TH...</td>\n",
       "      <td>...</td>\n",
       "      <td>175000.0</td>\n",
       "      <td>NaN</td>\n",
       "      <td>NaN</td>\n",
       "      <td>YES</td>\n",
       "      <td>NaN</td>\n",
       "      <td>NaN</td>\n",
       "      <td>NaN</td>\n",
       "      <td>NYT-bestselling author of BIRD BOX Josh Malerm...</td>\n",
       "      <td>253</td>\n",
       "      <td>28</td>\n",
       "    </tr>\n",
       "    <tr>\n",
       "      <th>20</th>\n",
       "      <td>9.780593e+12</td>\n",
       "      <td>Josh Malerman</td>\n",
       "      <td>Malorie: A Novel</td>\n",
       "      <td>2020-07-21</td>\n",
       "      <td>54187</td>\n",
       "      <td>Fiction</td>\n",
       "      <td>Thriller</td>\n",
       "      <td>2019-03-18</td>\n",
       "      <td>Josh Malerman</td>\n",
       "      <td>['MALORIE', 'MUSICAL CHAIRS']</td>\n",
       "      <td>...</td>\n",
       "      <td>625000.0</td>\n",
       "      <td>NaN</td>\n",
       "      <td>NaN</td>\n",
       "      <td>YES</td>\n",
       "      <td>NaN</td>\n",
       "      <td>NaN</td>\n",
       "      <td>YES</td>\n",
       "      <td>NYT-bestselling author of BIRD BOX Josh Malerm...</td>\n",
       "      <td>491</td>\n",
       "      <td>59</td>\n",
       "    </tr>\n",
       "    <tr>\n",
       "      <th>21</th>\n",
       "      <td>9.780593e+12</td>\n",
       "      <td>Josh Malerman</td>\n",
       "      <td>Malorie: A Novel</td>\n",
       "      <td>2020-07-21</td>\n",
       "      <td>80059</td>\n",
       "      <td>Fiction</td>\n",
       "      <td>Sci-Fi/ Fantasy</td>\n",
       "      <td>2017-03-06</td>\n",
       "      <td>Josh Malerman</td>\n",
       "      <td>UNBURY CAROL</td>\n",
       "      <td>...</td>\n",
       "      <td>175000.0</td>\n",
       "      <td>YES</td>\n",
       "      <td>YES</td>\n",
       "      <td>NaN</td>\n",
       "      <td>NaN</td>\n",
       "      <td>NaN</td>\n",
       "      <td>NaN</td>\n",
       "      <td>Bram Stoker Award-nominee Josh Malerman's UNBU...</td>\n",
       "      <td>1233</td>\n",
       "      <td>30</td>\n",
       "    </tr>\n",
       "    <tr>\n",
       "      <th>23</th>\n",
       "      <td>9.780593e+12</td>\n",
       "      <td>Josh Malerman</td>\n",
       "      <td>A House at the Bottom of a Lake</td>\n",
       "      <td>2021-01-19</td>\n",
       "      <td>45936</td>\n",
       "      <td>Fiction</td>\n",
       "      <td>General/ Other</td>\n",
       "      <td>2019-11-11</td>\n",
       "      <td>Josh Malerman</td>\n",
       "      <td>['SPIN A BLACK YARN', 'GOBLIN', 'A HOUSE AT TH...</td>\n",
       "      <td>...</td>\n",
       "      <td>175000.0</td>\n",
       "      <td>NaN</td>\n",
       "      <td>NaN</td>\n",
       "      <td>YES</td>\n",
       "      <td>NaN</td>\n",
       "      <td>NaN</td>\n",
       "      <td>NaN</td>\n",
       "      <td>NYT-bestselling author of BIRD BOX Josh Malerm...</td>\n",
       "      <td>435</td>\n",
       "      <td>71</td>\n",
       "    </tr>\n",
       "    <tr>\n",
       "      <th>24</th>\n",
       "      <td>9.780593e+12</td>\n",
       "      <td>Josh Malerman</td>\n",
       "      <td>A House at the Bottom of a Lake</td>\n",
       "      <td>2021-01-19</td>\n",
       "      <td>54187</td>\n",
       "      <td>Fiction</td>\n",
       "      <td>Thriller</td>\n",
       "      <td>2019-03-18</td>\n",
       "      <td>Josh Malerman</td>\n",
       "      <td>['MALORIE', 'MUSICAL CHAIRS']</td>\n",
       "      <td>...</td>\n",
       "      <td>625000.0</td>\n",
       "      <td>NaN</td>\n",
       "      <td>NaN</td>\n",
       "      <td>YES</td>\n",
       "      <td>NaN</td>\n",
       "      <td>NaN</td>\n",
       "      <td>YES</td>\n",
       "      <td>NYT-bestselling author of BIRD BOX Josh Malerm...</td>\n",
       "      <td>673</td>\n",
       "      <td>30</td>\n",
       "    </tr>\n",
       "    <tr>\n",
       "      <th>25</th>\n",
       "      <td>9.780593e+12</td>\n",
       "      <td>Josh Malerman</td>\n",
       "      <td>A House at the Bottom of a Lake</td>\n",
       "      <td>2021-01-19</td>\n",
       "      <td>80059</td>\n",
       "      <td>Fiction</td>\n",
       "      <td>Sci-Fi/ Fantasy</td>\n",
       "      <td>2017-03-06</td>\n",
       "      <td>Josh Malerman</td>\n",
       "      <td>UNBURY CAROL</td>\n",
       "      <td>...</td>\n",
       "      <td>175000.0</td>\n",
       "      <td>YES</td>\n",
       "      <td>YES</td>\n",
       "      <td>NaN</td>\n",
       "      <td>NaN</td>\n",
       "      <td>NaN</td>\n",
       "      <td>NaN</td>\n",
       "      <td>Bram Stoker Award-nominee Josh Malerman's UNBU...</td>\n",
       "      <td>1415</td>\n",
       "      <td>19</td>\n",
       "    </tr>\n",
       "    <tr>\n",
       "      <th>27</th>\n",
       "      <td>9.780593e+12</td>\n",
       "      <td>Josh Malerman</td>\n",
       "      <td>Goblin: A Novel in Six Novellas</td>\n",
       "      <td>2021-05-18</td>\n",
       "      <td>45936</td>\n",
       "      <td>Fiction</td>\n",
       "      <td>General/ Other</td>\n",
       "      <td>2019-11-11</td>\n",
       "      <td>Josh Malerman</td>\n",
       "      <td>['SPIN A BLACK YARN', 'GOBLIN', 'A HOUSE AT TH...</td>\n",
       "      <td>...</td>\n",
       "      <td>175000.0</td>\n",
       "      <td>NaN</td>\n",
       "      <td>NaN</td>\n",
       "      <td>YES</td>\n",
       "      <td>NaN</td>\n",
       "      <td>NaN</td>\n",
       "      <td>NaN</td>\n",
       "      <td>NYT-bestselling author of BIRD BOX Josh Malerm...</td>\n",
       "      <td>554</td>\n",
       "      <td>40</td>\n",
       "    </tr>\n",
       "    <tr>\n",
       "      <th>28</th>\n",
       "      <td>9.780593e+12</td>\n",
       "      <td>Josh Malerman</td>\n",
       "      <td>Goblin: A Novel in Six Novellas</td>\n",
       "      <td>2021-05-18</td>\n",
       "      <td>54187</td>\n",
       "      <td>Fiction</td>\n",
       "      <td>Thriller</td>\n",
       "      <td>2019-03-18</td>\n",
       "      <td>Josh Malerman</td>\n",
       "      <td>['MALORIE', 'MUSICAL CHAIRS']</td>\n",
       "      <td>...</td>\n",
       "      <td>625000.0</td>\n",
       "      <td>NaN</td>\n",
       "      <td>NaN</td>\n",
       "      <td>YES</td>\n",
       "      <td>NaN</td>\n",
       "      <td>NaN</td>\n",
       "      <td>YES</td>\n",
       "      <td>NYT-bestselling author of BIRD BOX Josh Malerm...</td>\n",
       "      <td>792</td>\n",
       "      <td>35</td>\n",
       "    </tr>\n",
       "    <tr>\n",
       "      <th>32</th>\n",
       "      <td>9.781409e+12</td>\n",
       "      <td>Josh Malerman</td>\n",
       "      <td>Malorie: The much-anticipated Bird Box sequel</td>\n",
       "      <td>2019-10-01</td>\n",
       "      <td>54187</td>\n",
       "      <td>Fiction</td>\n",
       "      <td>Thriller</td>\n",
       "      <td>2019-03-18</td>\n",
       "      <td>Josh Malerman</td>\n",
       "      <td>['MALORIE', 'MUSICAL CHAIRS']</td>\n",
       "      <td>...</td>\n",
       "      <td>625000.0</td>\n",
       "      <td>NaN</td>\n",
       "      <td>NaN</td>\n",
       "      <td>YES</td>\n",
       "      <td>NaN</td>\n",
       "      <td>NaN</td>\n",
       "      <td>YES</td>\n",
       "      <td>NYT-bestselling author of BIRD BOX Josh Malerm...</td>\n",
       "      <td>197</td>\n",
       "      <td>52</td>\n",
       "    </tr>\n",
       "    <tr>\n",
       "      <th>33</th>\n",
       "      <td>9.781409e+12</td>\n",
       "      <td>Josh Malerman</td>\n",
       "      <td>Malorie: The much-anticipated Bird Box sequel</td>\n",
       "      <td>2019-10-01</td>\n",
       "      <td>80059</td>\n",
       "      <td>Fiction</td>\n",
       "      <td>Sci-Fi/ Fantasy</td>\n",
       "      <td>2017-03-06</td>\n",
       "      <td>Josh Malerman</td>\n",
       "      <td>UNBURY CAROL</td>\n",
       "      <td>...</td>\n",
       "      <td>175000.0</td>\n",
       "      <td>YES</td>\n",
       "      <td>YES</td>\n",
       "      <td>NaN</td>\n",
       "      <td>NaN</td>\n",
       "      <td>NaN</td>\n",
       "      <td>NaN</td>\n",
       "      <td>Bram Stoker Award-nominee Josh Malerman's UNBU...</td>\n",
       "      <td>939</td>\n",
       "      <td>29</td>\n",
       "    </tr>\n",
       "    <tr>\n",
       "      <th>37</th>\n",
       "      <td>9.781433e+12</td>\n",
       "      <td>Josh Malerman</td>\n",
       "      <td>Unbury Carol (Thorndike Press Large Print Bill...</td>\n",
       "      <td>2018-10-03</td>\n",
       "      <td>80059</td>\n",
       "      <td>Fiction</td>\n",
       "      <td>Sci-Fi/ Fantasy</td>\n",
       "      <td>2017-03-06</td>\n",
       "      <td>Josh Malerman</td>\n",
       "      <td>UNBURY CAROL</td>\n",
       "      <td>...</td>\n",
       "      <td>175000.0</td>\n",
       "      <td>YES</td>\n",
       "      <td>YES</td>\n",
       "      <td>NaN</td>\n",
       "      <td>NaN</td>\n",
       "      <td>NaN</td>\n",
       "      <td>NaN</td>\n",
       "      <td>Bram Stoker Award-nominee Josh Malerman's UNBU...</td>\n",
       "      <td>576</td>\n",
       "      <td>35</td>\n",
       "    </tr>\n",
       "    <tr>\n",
       "      <th>41</th>\n",
       "      <td>9.781525e+12</td>\n",
       "      <td>Josh Malerman</td>\n",
       "      <td>Inspection: A Novel</td>\n",
       "      <td>2019-03-19</td>\n",
       "      <td>80059</td>\n",
       "      <td>Fiction</td>\n",
       "      <td>Sci-Fi/ Fantasy</td>\n",
       "      <td>2017-03-06</td>\n",
       "      <td>Josh Malerman</td>\n",
       "      <td>UNBURY CAROL</td>\n",
       "      <td>...</td>\n",
       "      <td>175000.0</td>\n",
       "      <td>YES</td>\n",
       "      <td>YES</td>\n",
       "      <td>NaN</td>\n",
       "      <td>NaN</td>\n",
       "      <td>NaN</td>\n",
       "      <td>NaN</td>\n",
       "      <td>Bram Stoker Award-nominee Josh Malerman's UNBU...</td>\n",
       "      <td>743</td>\n",
       "      <td>27</td>\n",
       "    </tr>\n",
       "    <tr>\n",
       "      <th>44</th>\n",
       "      <td>9.781525e+12</td>\n",
       "      <td>Josh Malerman</td>\n",
       "      <td>Inspection: A Novel</td>\n",
       "      <td>2019-09-17</td>\n",
       "      <td>54187</td>\n",
       "      <td>Fiction</td>\n",
       "      <td>Thriller</td>\n",
       "      <td>2019-03-18</td>\n",
       "      <td>Josh Malerman</td>\n",
       "      <td>['MALORIE', 'MUSICAL CHAIRS']</td>\n",
       "      <td>...</td>\n",
       "      <td>625000.0</td>\n",
       "      <td>NaN</td>\n",
       "      <td>NaN</td>\n",
       "      <td>YES</td>\n",
       "      <td>NaN</td>\n",
       "      <td>NaN</td>\n",
       "      <td>YES</td>\n",
       "      <td>NYT-bestselling author of BIRD BOX Josh Malerm...</td>\n",
       "      <td>183</td>\n",
       "      <td>35</td>\n",
       "    </tr>\n",
       "    <tr>\n",
       "      <th>45</th>\n",
       "      <td>9.781525e+12</td>\n",
       "      <td>Josh Malerman</td>\n",
       "      <td>Inspection: A Novel</td>\n",
       "      <td>2019-09-17</td>\n",
       "      <td>80059</td>\n",
       "      <td>Fiction</td>\n",
       "      <td>Sci-Fi/ Fantasy</td>\n",
       "      <td>2017-03-06</td>\n",
       "      <td>Josh Malerman</td>\n",
       "      <td>UNBURY CAROL</td>\n",
       "      <td>...</td>\n",
       "      <td>175000.0</td>\n",
       "      <td>YES</td>\n",
       "      <td>YES</td>\n",
       "      <td>NaN</td>\n",
       "      <td>NaN</td>\n",
       "      <td>NaN</td>\n",
       "      <td>NaN</td>\n",
       "      <td>Bram Stoker Award-nominee Josh Malerman's UNBU...</td>\n",
       "      <td>925</td>\n",
       "      <td>27</td>\n",
       "    </tr>\n",
       "    <tr>\n",
       "      <th>49</th>\n",
       "      <td>9.781721e+12</td>\n",
       "      <td>Josh Malerman</td>\n",
       "      <td>Doorbells at Dusk</td>\n",
       "      <td>2018-08-06</td>\n",
       "      <td>80059</td>\n",
       "      <td>Fiction</td>\n",
       "      <td>Sci-Fi/ Fantasy</td>\n",
       "      <td>2017-03-06</td>\n",
       "      <td>Josh Malerman</td>\n",
       "      <td>UNBURY CAROL</td>\n",
       "      <td>...</td>\n",
       "      <td>175000.0</td>\n",
       "      <td>YES</td>\n",
       "      <td>YES</td>\n",
       "      <td>NaN</td>\n",
       "      <td>NaN</td>\n",
       "      <td>NaN</td>\n",
       "      <td>NaN</td>\n",
       "      <td>Bram Stoker Award-nominee Josh Malerman's UNBU...</td>\n",
       "      <td>518</td>\n",
       "      <td>34</td>\n",
       "    </tr>\n",
       "    <tr>\n",
       "      <th>51</th>\n",
       "      <td>9.781733e+12</td>\n",
       "      <td>Josh Malerman</td>\n",
       "      <td>Miscreations: Gods, Monstrosities &amp; Other Horrors</td>\n",
       "      <td>2020-02-18</td>\n",
       "      <td>45936</td>\n",
       "      <td>Fiction</td>\n",
       "      <td>General/ Other</td>\n",
       "      <td>2019-11-11</td>\n",
       "      <td>Josh Malerman</td>\n",
       "      <td>['SPIN A BLACK YARN', 'GOBLIN', 'A HOUSE AT TH...</td>\n",
       "      <td>...</td>\n",
       "      <td>175000.0</td>\n",
       "      <td>NaN</td>\n",
       "      <td>NaN</td>\n",
       "      <td>YES</td>\n",
       "      <td>NaN</td>\n",
       "      <td>NaN</td>\n",
       "      <td>NaN</td>\n",
       "      <td>NYT-bestselling author of BIRD BOX Josh Malerm...</td>\n",
       "      <td>99</td>\n",
       "      <td>34</td>\n",
       "    </tr>\n",
       "    <tr>\n",
       "      <th>52</th>\n",
       "      <td>9.781733e+12</td>\n",
       "      <td>Josh Malerman</td>\n",
       "      <td>Miscreations: Gods, Monstrosities &amp; Other Horrors</td>\n",
       "      <td>2020-02-18</td>\n",
       "      <td>54187</td>\n",
       "      <td>Fiction</td>\n",
       "      <td>Thriller</td>\n",
       "      <td>2019-03-18</td>\n",
       "      <td>Josh Malerman</td>\n",
       "      <td>['MALORIE', 'MUSICAL CHAIRS']</td>\n",
       "      <td>...</td>\n",
       "      <td>625000.0</td>\n",
       "      <td>NaN</td>\n",
       "      <td>NaN</td>\n",
       "      <td>YES</td>\n",
       "      <td>NaN</td>\n",
       "      <td>NaN</td>\n",
       "      <td>YES</td>\n",
       "      <td>NYT-bestselling author of BIRD BOX Josh Malerm...</td>\n",
       "      <td>337</td>\n",
       "      <td>33</td>\n",
       "    </tr>\n",
       "    <tr>\n",
       "      <th>53</th>\n",
       "      <td>9.781733e+12</td>\n",
       "      <td>Josh Malerman</td>\n",
       "      <td>Miscreations: Gods, Monstrosities &amp; Other Horrors</td>\n",
       "      <td>2020-02-18</td>\n",
       "      <td>80059</td>\n",
       "      <td>Fiction</td>\n",
       "      <td>Sci-Fi/ Fantasy</td>\n",
       "      <td>2017-03-06</td>\n",
       "      <td>Josh Malerman</td>\n",
       "      <td>UNBURY CAROL</td>\n",
       "      <td>...</td>\n",
       "      <td>175000.0</td>\n",
       "      <td>YES</td>\n",
       "      <td>YES</td>\n",
       "      <td>NaN</td>\n",
       "      <td>NaN</td>\n",
       "      <td>NaN</td>\n",
       "      <td>NaN</td>\n",
       "      <td>Bram Stoker Award-nominee Josh Malerman's UNBU...</td>\n",
       "      <td>1079</td>\n",
       "      <td>21</td>\n",
       "    </tr>\n",
       "    <tr>\n",
       "      <th>57</th>\n",
       "      <td>9.783734e+12</td>\n",
       "      <td>Josh Malerman</td>\n",
       "      <td>Bird Box - Schließe deine Augen: Roman</td>\n",
       "      <td>2018-12-17</td>\n",
       "      <td>80059</td>\n",
       "      <td>Fiction</td>\n",
       "      <td>Sci-Fi/ Fantasy</td>\n",
       "      <td>2017-03-06</td>\n",
       "      <td>Josh Malerman</td>\n",
       "      <td>UNBURY CAROL</td>\n",
       "      <td>...</td>\n",
       "      <td>175000.0</td>\n",
       "      <td>YES</td>\n",
       "      <td>YES</td>\n",
       "      <td>NaN</td>\n",
       "      <td>NaN</td>\n",
       "      <td>NaN</td>\n",
       "      <td>NaN</td>\n",
       "      <td>Bram Stoker Award-nominee Josh Malerman's UNBU...</td>\n",
       "      <td>651</td>\n",
       "      <td>26</td>\n",
       "    </tr>\n",
       "    <tr>\n",
       "      <th>61</th>\n",
       "      <td>9.788551e+12</td>\n",
       "      <td>Josh Malerman</td>\n",
       "      <td>Uma Casa no Fundo de Um Lago (Em Portugues do ...</td>\n",
       "      <td>2018-01-01</td>\n",
       "      <td>80059</td>\n",
       "      <td>Fiction</td>\n",
       "      <td>Sci-Fi/ Fantasy</td>\n",
       "      <td>2017-03-06</td>\n",
       "      <td>Josh Malerman</td>\n",
       "      <td>UNBURY CAROL</td>\n",
       "      <td>...</td>\n",
       "      <td>175000.0</td>\n",
       "      <td>YES</td>\n",
       "      <td>YES</td>\n",
       "      <td>NaN</td>\n",
       "      <td>NaN</td>\n",
       "      <td>NaN</td>\n",
       "      <td>NaN</td>\n",
       "      <td>Bram Stoker Award-nominee Josh Malerman's UNBU...</td>\n",
       "      <td>301</td>\n",
       "      <td>22</td>\n",
       "    </tr>\n",
       "  </tbody>\n",
       "</table>\n",
       "<p>23 rows × 22 columns</p>\n",
       "</div>"
      ],
      "text/plain": [
       "          isbn13         author   \n",
       "9   9.780008e+12  Josh Malerman  \\\n",
       "13  9.780399e+12  Josh Malerman   \n",
       "17  9.780399e+12  Josh Malerman   \n",
       "19  9.780593e+12  Josh Malerman   \n",
       "20  9.780593e+12  Josh Malerman   \n",
       "21  9.780593e+12  Josh Malerman   \n",
       "23  9.780593e+12  Josh Malerman   \n",
       "24  9.780593e+12  Josh Malerman   \n",
       "25  9.780593e+12  Josh Malerman   \n",
       "27  9.780593e+12  Josh Malerman   \n",
       "28  9.780593e+12  Josh Malerman   \n",
       "32  9.781409e+12  Josh Malerman   \n",
       "33  9.781409e+12  Josh Malerman   \n",
       "37  9.781433e+12  Josh Malerman   \n",
       "41  9.781525e+12  Josh Malerman   \n",
       "44  9.781525e+12  Josh Malerman   \n",
       "45  9.781525e+12  Josh Malerman   \n",
       "49  9.781721e+12  Josh Malerman   \n",
       "51  9.781733e+12  Josh Malerman   \n",
       "52  9.781733e+12  Josh Malerman   \n",
       "53  9.781733e+12  Josh Malerman   \n",
       "57  9.783734e+12  Josh Malerman   \n",
       "61  9.788551e+12  Josh Malerman   \n",
       "\n",
       "                                                title datepublished   \n",
       "9                                     Black Mad Wheel    2017-07-27  \\\n",
       "13                              Unbury Carol: A Novel    2018-04-10   \n",
       "17                              Unbury Carol: A Novel    2019-02-05   \n",
       "19                                   Malorie: A Novel    2020-07-21   \n",
       "20                                   Malorie: A Novel    2020-07-21   \n",
       "21                                   Malorie: A Novel    2020-07-21   \n",
       "23                    A House at the Bottom of a Lake    2021-01-19   \n",
       "24                    A House at the Bottom of a Lake    2021-01-19   \n",
       "25                    A House at the Bottom of a Lake    2021-01-19   \n",
       "27                    Goblin: A Novel in Six Novellas    2021-05-18   \n",
       "28                    Goblin: A Novel in Six Novellas    2021-05-18   \n",
       "32      Malorie: The much-anticipated Bird Box sequel    2019-10-01   \n",
       "33      Malorie: The much-anticipated Bird Box sequel    2019-10-01   \n",
       "37  Unbury Carol (Thorndike Press Large Print Bill...    2018-10-03   \n",
       "41                                Inspection: A Novel    2019-03-19   \n",
       "44                                Inspection: A Novel    2019-09-17   \n",
       "45                                Inspection: A Novel    2019-09-17   \n",
       "49                                  Doorbells at Dusk    2018-08-06   \n",
       "51  Miscreations: Gods, Monstrosities & Other Horrors    2020-02-18   \n",
       "52  Miscreations: Gods, Monstrosities & Other Horrors    2020-02-18   \n",
       "53  Miscreations: Gods, Monstrosities & Other Horrors    2020-02-18   \n",
       "57             Bird Box - Schließe deine Augen: Roman    2018-12-17   \n",
       "61  Uma Casa no Fundo de Um Lago (Em Portugues do ...    2018-01-01   \n",
       "\n",
       "    advance_id Rights Category            Genre       Date      Author(s)   \n",
       "9        80059         Fiction  Sci-Fi/ Fantasy 2017-03-06  Josh Malerman  \\\n",
       "13       80059         Fiction  Sci-Fi/ Fantasy 2017-03-06  Josh Malerman   \n",
       "17       80059         Fiction  Sci-Fi/ Fantasy 2017-03-06  Josh Malerman   \n",
       "19       45936         Fiction   General/ Other 2019-11-11  Josh Malerman   \n",
       "20       54187         Fiction         Thriller 2019-03-18  Josh Malerman   \n",
       "21       80059         Fiction  Sci-Fi/ Fantasy 2017-03-06  Josh Malerman   \n",
       "23       45936         Fiction   General/ Other 2019-11-11  Josh Malerman   \n",
       "24       54187         Fiction         Thriller 2019-03-18  Josh Malerman   \n",
       "25       80059         Fiction  Sci-Fi/ Fantasy 2017-03-06  Josh Malerman   \n",
       "27       45936         Fiction   General/ Other 2019-11-11  Josh Malerman   \n",
       "28       54187         Fiction         Thriller 2019-03-18  Josh Malerman   \n",
       "32       54187         Fiction         Thriller 2019-03-18  Josh Malerman   \n",
       "33       80059         Fiction  Sci-Fi/ Fantasy 2017-03-06  Josh Malerman   \n",
       "37       80059         Fiction  Sci-Fi/ Fantasy 2017-03-06  Josh Malerman   \n",
       "41       80059         Fiction  Sci-Fi/ Fantasy 2017-03-06  Josh Malerman   \n",
       "44       54187         Fiction         Thriller 2019-03-18  Josh Malerman   \n",
       "45       80059         Fiction  Sci-Fi/ Fantasy 2017-03-06  Josh Malerman   \n",
       "49       80059         Fiction  Sci-Fi/ Fantasy 2017-03-06  Josh Malerman   \n",
       "51       45936         Fiction   General/ Other 2019-11-11  Josh Malerman   \n",
       "52       54187         Fiction         Thriller 2019-03-18  Josh Malerman   \n",
       "53       80059         Fiction  Sci-Fi/ Fantasy 2017-03-06  Josh Malerman   \n",
       "57       80059         Fiction  Sci-Fi/ Fantasy 2017-03-06  Josh Malerman   \n",
       "61       80059         Fiction  Sci-Fi/ Fantasy 2017-03-06  Josh Malerman   \n",
       "\n",
       "                                                Title  ...   Advance   \n",
       "9                                        UNBURY CAROL  ...  175000.0  \\\n",
       "13                                       UNBURY CAROL  ...  175000.0   \n",
       "17                                       UNBURY CAROL  ...  175000.0   \n",
       "19  ['SPIN A BLACK YARN', 'GOBLIN', 'A HOUSE AT TH...  ...  175000.0   \n",
       "20                      ['MALORIE', 'MUSICAL CHAIRS']  ...  625000.0   \n",
       "21                                       UNBURY CAROL  ...  175000.0   \n",
       "23  ['SPIN A BLACK YARN', 'GOBLIN', 'A HOUSE AT TH...  ...  175000.0   \n",
       "24                      ['MALORIE', 'MUSICAL CHAIRS']  ...  625000.0   \n",
       "25                                       UNBURY CAROL  ...  175000.0   \n",
       "27  ['SPIN A BLACK YARN', 'GOBLIN', 'A HOUSE AT TH...  ...  175000.0   \n",
       "28                      ['MALORIE', 'MUSICAL CHAIRS']  ...  625000.0   \n",
       "32                      ['MALORIE', 'MUSICAL CHAIRS']  ...  625000.0   \n",
       "33                                       UNBURY CAROL  ...  175000.0   \n",
       "37                                       UNBURY CAROL  ...  175000.0   \n",
       "41                                       UNBURY CAROL  ...  175000.0   \n",
       "44                      ['MALORIE', 'MUSICAL CHAIRS']  ...  625000.0   \n",
       "45                                       UNBURY CAROL  ...  175000.0   \n",
       "49                                       UNBURY CAROL  ...  175000.0   \n",
       "51  ['SPIN A BLACK YARN', 'GOBLIN', 'A HOUSE AT TH...  ...  175000.0   \n",
       "52                      ['MALORIE', 'MUSICAL CHAIRS']  ...  625000.0   \n",
       "53                                       UNBURY CAROL  ...  175000.0   \n",
       "57                                       UNBURY CAROL  ...  175000.0   \n",
       "61                                       UNBURY CAROL  ...  175000.0   \n",
       "\n",
       "   Competition  Awards Bestseller Self Publishing Debut Series   \n",
       "9          YES     YES        NaN             NaN   NaN    NaN  \\\n",
       "13         YES     YES        NaN             NaN   NaN    NaN   \n",
       "17         YES     YES        NaN             NaN   NaN    NaN   \n",
       "19         NaN     NaN        YES             NaN   NaN    NaN   \n",
       "20         NaN     NaN        YES             NaN   NaN    YES   \n",
       "21         YES     YES        NaN             NaN   NaN    NaN   \n",
       "23         NaN     NaN        YES             NaN   NaN    NaN   \n",
       "24         NaN     NaN        YES             NaN   NaN    YES   \n",
       "25         YES     YES        NaN             NaN   NaN    NaN   \n",
       "27         NaN     NaN        YES             NaN   NaN    NaN   \n",
       "28         NaN     NaN        YES             NaN   NaN    YES   \n",
       "32         NaN     NaN        YES             NaN   NaN    YES   \n",
       "33         YES     YES        NaN             NaN   NaN    NaN   \n",
       "37         YES     YES        NaN             NaN   NaN    NaN   \n",
       "41         YES     YES        NaN             NaN   NaN    NaN   \n",
       "44         NaN     NaN        YES             NaN   NaN    YES   \n",
       "45         YES     YES        NaN             NaN   NaN    NaN   \n",
       "49         YES     YES        NaN             NaN   NaN    NaN   \n",
       "51         NaN     NaN        YES             NaN   NaN    NaN   \n",
       "52         NaN     NaN        YES             NaN   NaN    YES   \n",
       "53         YES     YES        NaN             NaN   NaN    NaN   \n",
       "57         YES     YES        NaN             NaN   NaN    NaN   \n",
       "61         YES     YES        NaN             NaN   NaN    NaN   \n",
       "\n",
       "                                                  All diff_days fuzz_ratio  \n",
       "9   Bram Stoker Award-nominee Josh Malerman's UNBU...       143         22  \n",
       "13  Bram Stoker Award-nominee Josh Malerman's UNBU...       400         75  \n",
       "17  Bram Stoker Award-nominee Josh Malerman's UNBU...       701         75  \n",
       "19  NYT-bestselling author of BIRD BOX Josh Malerm...       253         28  \n",
       "20  NYT-bestselling author of BIRD BOX Josh Malerm...       491         59  \n",
       "21  Bram Stoker Award-nominee Josh Malerman's UNBU...      1233         30  \n",
       "23  NYT-bestselling author of BIRD BOX Josh Malerm...       435         71  \n",
       "24  NYT-bestselling author of BIRD BOX Josh Malerm...       673         30  \n",
       "25  Bram Stoker Award-nominee Josh Malerman's UNBU...      1415         19  \n",
       "27  NYT-bestselling author of BIRD BOX Josh Malerm...       554         40  \n",
       "28  NYT-bestselling author of BIRD BOX Josh Malerm...       792         35  \n",
       "32  NYT-bestselling author of BIRD BOX Josh Malerm...       197         52  \n",
       "33  Bram Stoker Award-nominee Josh Malerman's UNBU...       939         29  \n",
       "37  Bram Stoker Award-nominee Josh Malerman's UNBU...       576         35  \n",
       "41  Bram Stoker Award-nominee Josh Malerman's UNBU...       743         27  \n",
       "44  NYT-bestselling author of BIRD BOX Josh Malerm...       183         35  \n",
       "45  Bram Stoker Award-nominee Josh Malerman's UNBU...       925         27  \n",
       "49  Bram Stoker Award-nominee Josh Malerman's UNBU...       518         34  \n",
       "51  NYT-bestselling author of BIRD BOX Josh Malerm...        99         34  \n",
       "52  NYT-bestselling author of BIRD BOX Josh Malerm...       337         33  \n",
       "53  Bram Stoker Award-nominee Josh Malerman's UNBU...      1079         21  \n",
       "57  Bram Stoker Award-nominee Josh Malerman's UNBU...       651         26  \n",
       "61  Bram Stoker Award-nominee Josh Malerman's UNBU...       301         22  \n",
       "\n",
       "[23 rows x 22 columns]"
      ]
     },
     "execution_count": 97,
     "metadata": {},
     "output_type": "execute_result"
    }
   ],
   "source": [
    "book_adv[book_adv['author'] == 'Josh Malerman']"
   ]
  },
  {
   "cell_type": "code",
   "execution_count": 98,
   "metadata": {},
   "outputs": [],
   "source": [
    "final = book_adv.groupby('advance_id', as_index=False).apply(lambda x : x.loc[x['fuzz_ratio'].idxmax()])\n",
    "final = final.groupby('isbn13', as_index=False).apply(lambda x : x.loc[x['datepublished'].idxmin()])"
   ]
  },
  {
   "cell_type": "code",
   "execution_count": 99,
   "metadata": {},
   "outputs": [
    {
     "name": "stdout",
     "output_type": "stream",
     "text": [
      "(3141, 22) (3141,) (3141,)\n"
     ]
    }
   ],
   "source": [
    "print(final.shape, final['advance_id'].unique().shape, final['isbn13'].unique().shape)"
   ]
  },
  {
   "cell_type": "code",
   "execution_count": 116,
   "metadata": {},
   "outputs": [],
   "source": [
    "ff = pd.merge(final[final['fuzz_ratio']>=1], sales, on=['isbn13','datepublished'])"
   ]
  },
  {
   "cell_type": "code",
   "execution_count": 117,
   "metadata": {},
   "outputs": [
    {
     "name": "stdout",
     "output_type": "stream",
     "text": [
      "(3127, 26) (3127,)\n"
     ]
    }
   ],
   "source": [
    "print(ff.shape, ff['isbn13'].unique().shape)"
   ]
  },
  {
   "cell_type": "code",
   "execution_count": 120,
   "metadata": {},
   "outputs": [],
   "source": [
    "sb = pd.merge(sales, book, on=['isbn13','datepublished'])"
   ]
  },
  {
   "cell_type": "code",
   "execution_count": 121,
   "metadata": {},
   "outputs": [
    {
     "name": "stdout",
     "output_type": "stream",
     "text": [
      "(187320, 8) (187320,)\n"
     ]
    }
   ],
   "source": [
    "print(sb.shape, sb['isbn13'].unique().shape)"
   ]
  },
  {
   "cell_type": "code",
   "execution_count": 124,
   "metadata": {},
   "outputs": [],
   "source": [
    "ab = pd.merge(book, adv, left_on='author', right_on='Author(s)')"
   ]
  },
  {
   "cell_type": "code",
   "execution_count": 133,
   "metadata": {},
   "outputs": [
    {
     "data": {
      "text/plain": [
       "Index(['Unnamed: 0', 'isbn13', 'datepublished', 'totalrevenue', 'totalunits',\n",
       "       'price'],\n",
       "      dtype='object')"
      ]
     },
     "execution_count": 133,
     "metadata": {},
     "output_type": "execute_result"
    }
   ],
   "source": [
    "sales.columns"
   ]
  },
  {
   "cell_type": "code",
   "execution_count": 138,
   "metadata": {},
   "outputs": [
    {
     "name": "stdout",
     "output_type": "stream",
     "text": [
      "(37133, 20) (17275,) (7921,) (4765,)\n"
     ]
    }
   ],
   "source": [
    "print(ab.shape, ab['isbn13'].unique().shape, ab['advance_id'].unique().shape, ab['Author(s)'].unique().shape)"
   ]
  },
  {
   "cell_type": "code",
   "execution_count": 136,
   "metadata": {},
   "outputs": [],
   "source": [
    "sab =pd.merge(sales,ab,  on=['isbn13','datepublished'] )"
   ]
  },
  {
   "cell_type": "code",
   "execution_count": 140,
   "metadata": {},
   "outputs": [
    {
     "name": "stdout",
     "output_type": "stream",
     "text": [
      "(36750, 24) (17066,) (7880,) (4743,)\n"
     ]
    }
   ],
   "source": [
    "print(sab.shape, sab['isbn13'].unique().shape, sab['advance_id'].unique().shape, sab['Author(s)'].unique().shape)"
   ]
  },
  {
   "cell_type": "code",
   "execution_count": 142,
   "metadata": {},
   "outputs": [],
   "source": [
    "sba = pd.merge(sb, adv, left_on='author', right_on='Author(s)')"
   ]
  },
  {
   "cell_type": "code",
   "execution_count": 143,
   "metadata": {},
   "outputs": [
    {
     "name": "stdout",
     "output_type": "stream",
     "text": [
      "(36750, 24) (17066,) (7880,) (4743,)\n"
     ]
    }
   ],
   "source": [
    "print(sba.shape, sba['isbn13'].unique().shape, sba['advance_id'].unique().shape, sba['Author(s)'].unique().shape)"
   ]
  },
  {
   "cell_type": "code",
   "execution_count": 144,
   "metadata": {},
   "outputs": [],
   "source": [
    "sba['diff_days'] = (sba['datepublished']-sba['Date']).dt.days"
   ]
  },
  {
   "cell_type": "code",
   "execution_count": 148,
   "metadata": {},
   "outputs": [],
   "source": [
    "fsba = sba[(sba['diff_days'] >=90) & (sba['diff_days'] <=1460)]"
   ]
  },
  {
   "cell_type": "code",
   "execution_count": 149,
   "metadata": {},
   "outputs": [
    {
     "name": "stdout",
     "output_type": "stream",
     "text": [
      "(11685, 25) (8184,) (3590,) (2615,)\n"
     ]
    }
   ],
   "source": [
    "print(fsba.shape, fsba['isbn13'].unique().shape, fsba['advance_id'].unique().shape, fsba['Author(s)'].unique().shape)"
   ]
  },
  {
   "cell_type": "code",
   "execution_count": 151,
   "metadata": {},
   "outputs": [],
   "source": [
    "filtered_df = sba[sba[['isbn13', 'datepublished', 'advance_id']].apply(tuple, axis=1).duplicated(keep=False)]\n"
   ]
  },
  {
   "cell_type": "code",
   "execution_count": 154,
   "metadata": {},
   "outputs": [
    {
     "name": "stdout",
     "output_type": "stream",
     "text": [
      "(189724, 4) (189724,) (93740,)\n"
     ]
    }
   ],
   "source": [
    "print(book.shape, book['isbn13'].unique().shape, book['author'].unique().shape)"
   ]
  },
  {
   "cell_type": "code",
   "execution_count": 162,
   "metadata": {},
   "outputs": [],
   "source": [
    "adv= adv[adv['Date'] >='2014']"
   ]
  },
  {
   "cell_type": "code",
   "execution_count": 163,
   "metadata": {},
   "outputs": [
    {
     "name": "stdout",
     "output_type": "stream",
     "text": [
      "(22839, 16) (22839,) (12076,)\n"
     ]
    }
   ],
   "source": [
    "print(adv.shape, adv['advance_id'].unique().shape, adv['Author(s)'].unique().shape)"
   ]
  },
  {
   "cell_type": "code",
   "execution_count": 158,
   "metadata": {},
   "outputs": [
    {
     "name": "stdout",
     "output_type": "stream",
     "text": [
      "(242495, 6) (194029,)\n"
     ]
    }
   ],
   "source": [
    "print(sales.shape, sales['isbn13'].unique().shape)"
   ]
  },
  {
   "cell_type": "code",
   "execution_count": 159,
   "metadata": {},
   "outputs": [
    {
     "name": "stdout",
     "output_type": "stream",
     "text": [
      "9780007245161.0\n"
     ]
    }
   ],
   "source": [
    "for s in sales['isbn13']:\n",
    "    if sales[sales['isbn13']==s].shape[0] >1:\n",
    "        print(s)\n",
    "        break"
   ]
  },
  {
   "cell_type": "code",
   "execution_count": 160,
   "metadata": {},
   "outputs": [
    {
     "data": {
      "text/html": [
       "<div>\n",
       "<style scoped>\n",
       "    .dataframe tbody tr th:only-of-type {\n",
       "        vertical-align: middle;\n",
       "    }\n",
       "\n",
       "    .dataframe tbody tr th {\n",
       "        vertical-align: top;\n",
       "    }\n",
       "\n",
       "    .dataframe thead th {\n",
       "        text-align: right;\n",
       "    }\n",
       "</style>\n",
       "<table border=\"1\" class=\"dataframe\">\n",
       "  <thead>\n",
       "    <tr style=\"text-align: right;\">\n",
       "      <th></th>\n",
       "      <th>Unnamed: 0</th>\n",
       "      <th>isbn13</th>\n",
       "      <th>datepublished</th>\n",
       "      <th>totalrevenue</th>\n",
       "      <th>totalunits</th>\n",
       "      <th>price</th>\n",
       "    </tr>\n",
       "  </thead>\n",
       "  <tbody>\n",
       "    <tr>\n",
       "      <th>3</th>\n",
       "      <td>3</td>\n",
       "      <td>9.780007e+12</td>\n",
       "      <td>2015-05-21</td>\n",
       "      <td>62910</td>\n",
       "      <td>112</td>\n",
       "      <td>555.664921</td>\n",
       "    </tr>\n",
       "    <tr>\n",
       "      <th>4</th>\n",
       "      <td>4</td>\n",
       "      <td>9.780007e+12</td>\n",
       "      <td>2015-09-15</td>\n",
       "      <td>11184</td>\n",
       "      <td>16</td>\n",
       "      <td>699.000000</td>\n",
       "    </tr>\n",
       "    <tr>\n",
       "      <th>5</th>\n",
       "      <td>5</td>\n",
       "      <td>9.780007e+12</td>\n",
       "      <td>2020-08-20</td>\n",
       "      <td>20271</td>\n",
       "      <td>29</td>\n",
       "      <td>699.000000</td>\n",
       "    </tr>\n",
       "  </tbody>\n",
       "</table>\n",
       "</div>"
      ],
      "text/plain": [
       "   Unnamed: 0        isbn13 datepublished  totalrevenue  totalunits   \n",
       "3           3  9.780007e+12    2015-05-21         62910         112  \\\n",
       "4           4  9.780007e+12    2015-09-15         11184          16   \n",
       "5           5  9.780007e+12    2020-08-20         20271          29   \n",
       "\n",
       "        price  \n",
       "3  555.664921  \n",
       "4  699.000000  \n",
       "5  699.000000  "
      ]
     },
     "execution_count": 160,
     "metadata": {},
     "output_type": "execute_result"
    }
   ],
   "source": [
    "sales[sales['isbn13']==9780007245161]"
   ]
  },
  {
   "cell_type": "code",
   "execution_count": null,
   "metadata": {},
   "outputs": [],
   "source": []
  },
  {
   "cell_type": "code",
   "execution_count": 111,
   "metadata": {},
   "outputs": [],
   "source": [
    "mbb = pd.merge(book_adv, sales, on=['isbn13','datepublished'])"
   ]
  },
  {
   "cell_type": "code",
   "execution_count": 20,
   "metadata": {},
   "outputs": [
    {
     "name": "stderr",
     "output_type": "stream",
     "text": [
      "<ipython-input-3-dcfd34122f8c>:187: SettingWithCopyWarning: \n",
      "A value is trying to be set on a copy of a slice from a DataFrame.\n",
      "Try using .loc[row_indexer,col_indexer] = value instead\n",
      "\n",
      "See the caveats in the documentation: https://pandas.pydata.org/pandas-docs/stable/user_guide/indexing.html#returning-a-view-versus-a-copy\n",
      "  book_adv['fuzz_ratio'] = book_adv.apply(lambda x: levenshtein_ratio(str(x['title']).lower(), str(x['Title']).lower()), axis=1)\n"
     ]
    },
    {
     "name": "stdout",
     "output_type": "stream",
     "text": [
      "After preprocessing of merged book_adv, the count is (242, 22)\n",
      "full_merge.shape - 240 ,full_merge['isbn13'].unique() - 240, full_merge['advance_id'].unique() -240  \n"
     ]
    }
   ],
   "source": [
    "dfg = pipeline(book_adv=book_adv, sales=sales)"
   ]
  },
  {
   "cell_type": "code",
   "execution_count": 47,
   "metadata": {},
   "outputs": [
    {
     "data": {
      "text/plain": [
       "657.5"
      ]
     },
     "execution_count": 47,
     "metadata": {},
     "output_type": "execute_result"
    }
   ],
   "source": [
    "#dfg[(dfg['fuzz_ratio']==100)]\n",
    "(dfg['diff_days'].median())"
   ]
  },
  {
   "cell_type": "code",
   "execution_count": 11,
   "metadata": {},
   "outputs": [
    {
     "data": {
      "text/html": [
       "<div>\n",
       "<style scoped>\n",
       "    .dataframe tbody tr th:only-of-type {\n",
       "        vertical-align: middle;\n",
       "    }\n",
       "\n",
       "    .dataframe tbody tr th {\n",
       "        vertical-align: top;\n",
       "    }\n",
       "\n",
       "    .dataframe thead th {\n",
       "        text-align: right;\n",
       "    }\n",
       "</style>\n",
       "<table border=\"1\" class=\"dataframe\">\n",
       "  <thead>\n",
       "    <tr style=\"text-align: right;\">\n",
       "      <th></th>\n",
       "      <th>author</th>\n",
       "      <th>title</th>\n",
       "      <th>Title</th>\n",
       "    </tr>\n",
       "  </thead>\n",
       "  <tbody>\n",
       "    <tr>\n",
       "      <th>11</th>\n",
       "      <td>Joanna Glen</td>\n",
       "      <td>The Flight of Augusta Hope</td>\n",
       "      <td>THE FLIGHT OF AUGUSTA HOPE</td>\n",
       "    </tr>\n",
       "    <tr>\n",
       "      <th>32</th>\n",
       "      <td>Rebecca Podos</td>\n",
       "      <td>Like Water</td>\n",
       "      <td>THE MYSTERY OF HOLLOW PLACES</td>\n",
       "    </tr>\n",
       "    <tr>\n",
       "      <th>48</th>\n",
       "      <td>Kathryn Purdie</td>\n",
       "      <td>Crystal Blade (Burning Glass)</td>\n",
       "      <td>AURASEER</td>\n",
       "    </tr>\n",
       "    <tr>\n",
       "      <th>49</th>\n",
       "      <td>Elizabeth Bonesteel</td>\n",
       "      <td>Breach of Containment: A Central Corps Novel</td>\n",
       "      <td>THE COLD BETWEEN</td>\n",
       "    </tr>\n",
       "    <tr>\n",
       "      <th>51</th>\n",
       "      <td>Elaine Vickers</td>\n",
       "      <td>Paper Chains</td>\n",
       "      <td>LOST AND FOUND</td>\n",
       "    </tr>\n",
       "    <tr>\n",
       "      <th>...</th>\n",
       "      <td>...</td>\n",
       "      <td>...</td>\n",
       "      <td>...</td>\n",
       "    </tr>\n",
       "    <tr>\n",
       "      <th>3042</th>\n",
       "      <td>J.D. Barker</td>\n",
       "      <td>The Fourth Monkey - Geboren, um zu töten: Thri...</td>\n",
       "      <td>THE FOURTH MONKEY</td>\n",
       "    </tr>\n",
       "    <tr>\n",
       "      <th>3050</th>\n",
       "      <td>Ali Land</td>\n",
       "      <td>Niña buena, niña mala / Good Me Bad Me (Spanis...</td>\n",
       "      <td>GOOD ME, BAD ME</td>\n",
       "    </tr>\n",
       "    <tr>\n",
       "      <th>3087</th>\n",
       "      <td>AJ Vanderhorst</td>\n",
       "      <td>The Mostly Invisible Boy (Casey Grimes)</td>\n",
       "      <td>THE MOSTLY INVISIBLE BOY</td>\n",
       "    </tr>\n",
       "    <tr>\n",
       "      <th>3088</th>\n",
       "      <td>Tom Deady</td>\n",
       "      <td>Of Men and Monsters</td>\n",
       "      <td>THE CLEARING</td>\n",
       "    </tr>\n",
       "    <tr>\n",
       "      <th>3127</th>\n",
       "      <td>Cristin Terrill</td>\n",
       "      <td>All Our Yesterdays</td>\n",
       "      <td>ALL OUR YESTERDAYS</td>\n",
       "    </tr>\n",
       "  </tbody>\n",
       "</table>\n",
       "<p>223 rows × 3 columns</p>\n",
       "</div>"
      ],
      "text/plain": [
       "                   author                                              title   \n",
       "11            Joanna Glen                         The Flight of Augusta Hope  \\\n",
       "32          Rebecca Podos                                         Like Water   \n",
       "48         Kathryn Purdie                      Crystal Blade (Burning Glass)   \n",
       "49    Elizabeth Bonesteel       Breach of Containment: A Central Corps Novel   \n",
       "51         Elaine Vickers                                       Paper Chains   \n",
       "...                   ...                                                ...   \n",
       "3042          J.D. Barker  The Fourth Monkey - Geboren, um zu töten: Thri...   \n",
       "3050             Ali Land  Niña buena, niña mala / Good Me Bad Me (Spanis...   \n",
       "3087       AJ Vanderhorst            The Mostly Invisible Boy (Casey Grimes)   \n",
       "3088            Tom Deady                                Of Men and Monsters   \n",
       "3127      Cristin Terrill                                 All Our Yesterdays   \n",
       "\n",
       "                             Title  \n",
       "11      THE FLIGHT OF AUGUSTA HOPE  \n",
       "32    THE MYSTERY OF HOLLOW PLACES  \n",
       "48                        AURASEER  \n",
       "49                THE COLD BETWEEN  \n",
       "51                  LOST AND FOUND  \n",
       "...                            ...  \n",
       "3042             THE FOURTH MONKEY  \n",
       "3050               GOOD ME, BAD ME  \n",
       "3087      THE MOSTLY INVISIBLE BOY  \n",
       "3088                  THE CLEARING  \n",
       "3127            ALL OUR YESTERDAYS  \n",
       "\n",
       "[223 rows x 3 columns]"
      ]
     },
     "execution_count": 11,
     "metadata": {},
     "output_type": "execute_result"
    }
   ],
   "source": [
    "xc[xc['Debut']==\"YES\"][['author','title','Title']mean"
   ]
  },
  {
   "cell_type": "code",
   "execution_count": 154,
   "metadata": {},
   "outputs": [],
   "source": [
    "xg = Google_Author_sales_advance_merge()"
   ]
  },
  {
   "cell_type": "code",
   "execution_count": 166,
   "metadata": {},
   "outputs": [],
   "source": [
    "xg.to_csv('gmerge.csv')"
   ]
  },
  {
   "cell_type": "code",
   "execution_count": 142,
   "metadata": {},
   "outputs": [],
   "source": [
    "GAuthors = pd.read_csv('AuthorCrosswalkScraper/Google_Author_crosswalk_exact.csv', index_col=0)\n",
    "rwords = ['[',']','\"',\"'\"]\n",
    "for word in rwords:\n",
    "    GAuthors.loc[:, 'Author'] = GAuthors['Author'].str.replace(word,\"\")\n",
    "GAuthors = GAuthors[~GAuthors['PublishedDate'].isin(['17-1', '101-', '200?', '19??', '199?'])]\n",
    "GAuthors['PublishedDate'] = pd.to_datetime(GAuthors['PublishedDate'], format='%Y')"
   ]
  },
  {
   "cell_type": "code",
   "execution_count": 144,
   "metadata": {},
   "outputs": [],
   "source": [
    "debut_authors = GAuthors.groupby('Author', as_index=False).apply(lambda x: x.loc[x['PublishedDate'].idxmin()])"
   ]
  },
  {
   "cell_type": "code",
   "execution_count": 161,
   "metadata": {},
   "outputs": [
    {
     "data": {
      "text/html": [
       "<div>\n",
       "<style scoped>\n",
       "    .dataframe tbody tr th:only-of-type {\n",
       "        vertical-align: middle;\n",
       "    }\n",
       "\n",
       "    .dataframe tbody tr th {\n",
       "        vertical-align: top;\n",
       "    }\n",
       "\n",
       "    .dataframe thead th {\n",
       "        text-align: right;\n",
       "    }\n",
       "</style>\n",
       "<table border=\"1\" class=\"dataframe\">\n",
       "  <thead>\n",
       "    <tr style=\"text-align: right;\">\n",
       "      <th></th>\n",
       "      <th>Author</th>\n",
       "      <th>Title</th>\n",
       "      <th>PublishedDate</th>\n",
       "      <th>ISBN13</th>\n",
       "    </tr>\n",
       "  </thead>\n",
       "  <tbody>\n",
       "    <tr>\n",
       "      <th>150</th>\n",
       "      <td>Abraham Lee</td>\n",
       "      <td>The Yellow Footprints</td>\n",
       "      <td>2020-01-01</td>\n",
       "      <td>9781645303091</td>\n",
       "    </tr>\n",
       "    <tr>\n",
       "      <th>151</th>\n",
       "      <td>Abraham Lee Pease</td>\n",
       "      <td>Winter Wanderings; Being an Account of Travels...</td>\n",
       "      <td>2011-01-01</td>\n",
       "      <td>9781446088890</td>\n",
       "    </tr>\n",
       "    <tr>\n",
       "      <th>152</th>\n",
       "      <td>Abraham Lincoln</td>\n",
       "      <td>Lincoln's Gettysburg Address</td>\n",
       "      <td>2013-01-01</td>\n",
       "      <td>9780807545515</td>\n",
       "    </tr>\n",
       "    <tr>\n",
       "      <th>153</th>\n",
       "      <td>Abraham Lincoln, Simpson Matthew 1811-1884, Os...</td>\n",
       "      <td>The Lincoln Memorial</td>\n",
       "      <td>2015-01-01</td>\n",
       "      <td>9781345665161</td>\n",
       "    </tr>\n",
       "    <tr>\n",
       "      <th>154</th>\n",
       "      <td>Abrams</td>\n",
       "      <td>The Essential</td>\n",
       "      <td>1999-01-01</td>\n",
       "      <td>9780810958029</td>\n",
       "    </tr>\n",
       "    <tr>\n",
       "      <th>155</th>\n",
       "      <td>Accu-Weather, Inc. Staff, Anc Staff Accu-Weath...</td>\n",
       "      <td>Meteorology</td>\n",
       "      <td>1994-01-01</td>\n",
       "      <td>9780801672279</td>\n",
       "    </tr>\n",
       "    <tr>\n",
       "      <th>156</th>\n",
       "      <td>Ace Collins</td>\n",
       "      <td>Stories Behind the Greatest Hits of Christmas</td>\n",
       "      <td>2010-01-01</td>\n",
       "      <td>9781458724571</td>\n",
       "    </tr>\n",
       "    <tr>\n",
       "      <th>157</th>\n",
       "      <td>Achor, Shawn</td>\n",
       "      <td>Por Trás da Felicidade</td>\n",
       "      <td>2020-01-01</td>\n",
       "      <td>9788557170186</td>\n",
       "    </tr>\n",
       "    <tr>\n",
       "      <th>158</th>\n",
       "      <td>Ada Hoffmann</td>\n",
       "      <td>Monsters in My Mind</td>\n",
       "      <td>2017-01-01</td>\n",
       "      <td>9781945955082</td>\n",
       "    </tr>\n",
       "    <tr>\n",
       "      <th>159</th>\n",
       "      <td>Ada Palmer</td>\n",
       "      <td>Reading Lucretius in the Renaissance</td>\n",
       "      <td>2014-01-01</td>\n",
       "      <td>9780674967083</td>\n",
       "    </tr>\n",
       "    <tr>\n",
       "      <th>160</th>\n",
       "      <td>Adam Barkman, Antonio Sanna</td>\n",
       "      <td>A Critical Companion to James Cameron</td>\n",
       "      <td>2018-01-01</td>\n",
       "      <td>9781498572316</td>\n",
       "    </tr>\n",
       "    <tr>\n",
       "      <th>161</th>\n",
       "      <td>Adam Boulton, Joey Jones</td>\n",
       "      <td>Hung Together</td>\n",
       "      <td>2013-01-01</td>\n",
       "      <td>9781471128301</td>\n",
       "    </tr>\n",
       "    <tr>\n",
       "      <th>162</th>\n",
       "      <td>Adam Bryant</td>\n",
       "      <td>Canada, Good Neighbor to the World</td>\n",
       "      <td>1997-01-01</td>\n",
       "      <td>9780382394980</td>\n",
       "    </tr>\n",
       "    <tr>\n",
       "      <th>163</th>\n",
       "      <td>Adam Bryant, Kevin Sharer</td>\n",
       "      <td>The CEO Test</td>\n",
       "      <td>2021-01-01</td>\n",
       "      <td>9781633699526</td>\n",
       "    </tr>\n",
       "    <tr>\n",
       "      <th>164</th>\n",
       "      <td>Adam Christopher</td>\n",
       "      <td>Empire State</td>\n",
       "      <td>2011-01-01</td>\n",
       "      <td>9780857661937</td>\n",
       "    </tr>\n",
       "    <tr>\n",
       "      <th>165</th>\n",
       "      <td>Adam Coffey</td>\n",
       "      <td>The Private Equity Playbook: Management's Guid...</td>\n",
       "      <td>2019-01-01</td>\n",
       "      <td>9781544513270</td>\n",
       "    </tr>\n",
       "    <tr>\n",
       "      <th>166</th>\n",
       "      <td>Adam Daniels, Eric Logan</td>\n",
       "      <td>Survival Communication</td>\n",
       "      <td>2016-01-01</td>\n",
       "      <td>9781535267816</td>\n",
       "    </tr>\n",
       "    <tr>\n",
       "      <th>167</th>\n",
       "      <td>Adam Daniels, Eric Logan, Adrienne Hopkins, He...</td>\n",
       "      <td>Survival Collection: Everything You Need to Kn...</td>\n",
       "      <td>2016-01-01</td>\n",
       "      <td>9781535288309</td>\n",
       "    </tr>\n",
       "    <tr>\n",
       "      <th>168</th>\n",
       "      <td>Adam Dirks</td>\n",
       "      <td>Unstoppable Me</td>\n",
       "      <td>2018-01-01</td>\n",
       "      <td>9780310764847</td>\n",
       "    </tr>\n",
       "    <tr>\n",
       "      <th>169</th>\n",
       "      <td>Adam Ellis</td>\n",
       "      <td>Testimony of Hell, Salvation of Life</td>\n",
       "      <td>2003-01-01</td>\n",
       "      <td>9780805959505</td>\n",
       "    </tr>\n",
       "  </tbody>\n",
       "</table>\n",
       "</div>"
      ],
      "text/plain": [
       "                                                Author   \n",
       "150                                        Abraham Lee  \\\n",
       "151                                  Abraham Lee Pease   \n",
       "152                                    Abraham Lincoln   \n",
       "153  Abraham Lincoln, Simpson Matthew 1811-1884, Os...   \n",
       "154                                             Abrams   \n",
       "155  Accu-Weather, Inc. Staff, Anc Staff Accu-Weath...   \n",
       "156                                        Ace Collins   \n",
       "157                                       Achor, Shawn   \n",
       "158                                       Ada Hoffmann   \n",
       "159                                         Ada Palmer   \n",
       "160                        Adam Barkman, Antonio Sanna   \n",
       "161                           Adam Boulton, Joey Jones   \n",
       "162                                        Adam Bryant   \n",
       "163                          Adam Bryant, Kevin Sharer   \n",
       "164                                   Adam Christopher   \n",
       "165                                        Adam Coffey   \n",
       "166                           Adam Daniels, Eric Logan   \n",
       "167  Adam Daniels, Eric Logan, Adrienne Hopkins, He...   \n",
       "168                                         Adam Dirks   \n",
       "169                                         Adam Ellis   \n",
       "\n",
       "                                                 Title PublishedDate   \n",
       "150                              The Yellow Footprints    2020-01-01  \\\n",
       "151  Winter Wanderings; Being an Account of Travels...    2011-01-01   \n",
       "152                       Lincoln's Gettysburg Address    2013-01-01   \n",
       "153                               The Lincoln Memorial    2015-01-01   \n",
       "154                                      The Essential    1999-01-01   \n",
       "155                                        Meteorology    1994-01-01   \n",
       "156      Stories Behind the Greatest Hits of Christmas    2010-01-01   \n",
       "157                             Por Trás da Felicidade    2020-01-01   \n",
       "158                                Monsters in My Mind    2017-01-01   \n",
       "159               Reading Lucretius in the Renaissance    2014-01-01   \n",
       "160              A Critical Companion to James Cameron    2018-01-01   \n",
       "161                                      Hung Together    2013-01-01   \n",
       "162                 Canada, Good Neighbor to the World    1997-01-01   \n",
       "163                                       The CEO Test    2021-01-01   \n",
       "164                                       Empire State    2011-01-01   \n",
       "165  The Private Equity Playbook: Management's Guid...    2019-01-01   \n",
       "166                             Survival Communication    2016-01-01   \n",
       "167  Survival Collection: Everything You Need to Kn...    2016-01-01   \n",
       "168                                     Unstoppable Me    2018-01-01   \n",
       "169               Testimony of Hell, Salvation of Life    2003-01-01   \n",
       "\n",
       "            ISBN13  \n",
       "150  9781645303091  \n",
       "151  9781446088890  \n",
       "152  9780807545515  \n",
       "153  9781345665161  \n",
       "154  9780810958029  \n",
       "155  9780801672279  \n",
       "156  9781458724571  \n",
       "157  9788557170186  \n",
       "158  9781945955082  \n",
       "159  9780674967083  \n",
       "160  9781498572316  \n",
       "161  9781471128301  \n",
       "162  9780382394980  \n",
       "163  9781633699526  \n",
       "164  9780857661937  \n",
       "165  9781544513270  \n",
       "166  9781535267816  \n",
       "167  9781535288309  \n",
       "168  9780310764847  \n",
       "169  9780805959505  "
      ]
     },
     "execution_count": 161,
     "metadata": {},
     "output_type": "execute_result"
    }
   ],
   "source": [
    "debut_authors.iloc[150:170,:]"
   ]
  },
  {
   "cell_type": "code",
   "execution_count": 139,
   "metadata": {},
   "outputs": [
    {
     "data": {
      "text/plain": [
       "Index(['Author', 'Title', 'PublishedDate', 'ISBN13'], dtype='object')"
      ]
     },
     "execution_count": 139,
     "metadata": {},
     "output_type": "execute_result"
    }
   ],
   "source": [
    "fgh.groupby('Author', as_index=False).apply"
   ]
  },
  {
   "cell_type": "code",
   "execution_count": null,
   "metadata": {},
   "outputs": [],
   "source": []
  },
  {
   "cell_type": "code",
   "execution_count": null,
   "metadata": {},
   "outputs": [],
   "source": []
  },
  {
   "cell_type": "code",
   "execution_count": 131,
   "metadata": {},
   "outputs": [],
   "source": [
    "sales = get_printbook_sales_data()"
   ]
  },
  {
   "cell_type": "code",
   "execution_count": 133,
   "metadata": {},
   "outputs": [
    {
     "data": {
      "text/html": [
       "<div>\n",
       "<style scoped>\n",
       "    .dataframe tbody tr th:only-of-type {\n",
       "        vertical-align: middle;\n",
       "    }\n",
       "\n",
       "    .dataframe tbody tr th {\n",
       "        vertical-align: top;\n",
       "    }\n",
       "\n",
       "    .dataframe thead th {\n",
       "        text-align: right;\n",
       "    }\n",
       "</style>\n",
       "<table border=\"1\" class=\"dataframe\">\n",
       "  <thead>\n",
       "    <tr style=\"text-align: right;\">\n",
       "      <th></th>\n",
       "      <th>Unnamed: 0</th>\n",
       "      <th>isbn13</th>\n",
       "      <th>datepublished</th>\n",
       "      <th>totalrevenue</th>\n",
       "      <th>totalunits</th>\n",
       "      <th>price</th>\n",
       "    </tr>\n",
       "  </thead>\n",
       "  <tbody>\n",
       "  </tbody>\n",
       "</table>\n",
       "</div>"
      ],
      "text/plain": [
       "Empty DataFrame\n",
       "Columns: [Unnamed: 0, isbn13, datepublished, totalrevenue, totalunits, price]\n",
       "Index: []"
      ]
     },
     "execution_count": 133,
     "metadata": {},
     "output_type": "execute_result"
    }
   ],
   "source": [
    "sales[sales['isbn13']=='9780147512284']"
   ]
  },
  {
   "cell_type": "code",
   "execution_count": 130,
   "metadata": {},
   "outputs": [],
   "source": [
    "fgh.to_csv('agoogle.csv')"
   ]
  },
  {
   "cell_type": "code",
   "execution_count": 3,
   "metadata": {},
   "outputs": [],
   "source": [
    "adv = get_advances_data()"
   ]
  },
  {
   "cell_type": "code",
   "execution_count": 4,
   "metadata": {},
   "outputs": [],
   "source": [
    "adv = adv[(adv['Author(s)'] != 'NONE') & (adv['Date'] >= '2014-01-01')]"
   ]
  },
  {
   "cell_type": "code",
   "execution_count": 5,
   "metadata": {},
   "outputs": [
    {
     "name": "stdout",
     "output_type": "stream",
     "text": [
      "(14913, 16) (12075,)\n"
     ]
    }
   ],
   "source": [
    "print(adv.shape, adv['Author(s)'].unique().shape)"
   ]
  },
  {
   "cell_type": "code",
   "execution_count": 6,
   "metadata": {},
   "outputs": [],
   "source": [
    "GAuthors = pd.read_csv('AuthorCrosswalkScraper/Google_Author_crosswalk_exact.csv', index_col=0)"
   ]
  },
  {
   "cell_type": "code",
   "execution_count": 7,
   "metadata": {},
   "outputs": [],
   "source": [
    "rwords = ['[',']','\"',\"'\"]\n",
    "for word in rwords:\n",
    "        GAuthors.loc[:, 'Author'] = GAuthors['Author'].str.replace(word,\"\")"
   ]
  },
  {
   "cell_type": "code",
   "execution_count": 8,
   "metadata": {},
   "outputs": [],
   "source": [
    "GAuthors = GAuthors[~GAuthors['PublishedDate'].isin(['17-1', '101-', '200?', '19??', '199?'])]\n"
   ]
  },
  {
   "cell_type": "code",
   "execution_count": 9,
   "metadata": {},
   "outputs": [],
   "source": [
    "GAuthors['PublishedDate'] = pd.to_datetime(GAuthors['PublishedDate'], format='%Y')"
   ]
  },
  {
   "cell_type": "code",
   "execution_count": 10,
   "metadata": {},
   "outputs": [
    {
     "name": "stdout",
     "output_type": "stream",
     "text": [
      "(59174, 4) (16849,)\n"
     ]
    }
   ],
   "source": [
    "print(GAuthors.shape, GAuthors['Author'].unique().shape)"
   ]
  },
  {
   "cell_type": "code",
   "execution_count": 11,
   "metadata": {},
   "outputs": [],
   "source": [
    "G17 = GAuthors[GAuthors['PublishedDate'] >='2017']"
   ]
  },
  {
   "cell_type": "code",
   "execution_count": 12,
   "metadata": {},
   "outputs": [
    {
     "name": "stdout",
     "output_type": "stream",
     "text": [
      "(30487, 4) (9862,)\n"
     ]
    }
   ],
   "source": [
    "print(G17.shape, G17['Author'].unique().shape)"
   ]
  },
  {
   "cell_type": "code",
   "execution_count": 13,
   "metadata": {},
   "outputs": [],
   "source": [
    "adv_14 = adv[(adv['Date'] >='2014')]"
   ]
  },
  {
   "cell_type": "code",
   "execution_count": 14,
   "metadata": {},
   "outputs": [
    {
     "data": {
      "text/plain": [
       "(12075,)"
      ]
     },
     "execution_count": 14,
     "metadata": {},
     "output_type": "execute_result"
    }
   ],
   "source": [
    "adv_14['Author(s)'].unique().shape"
   ]
  },
  {
   "cell_type": "code",
   "execution_count": 15,
   "metadata": {},
   "outputs": [
    {
     "data": {
      "text/plain": [
       "(14913, 16)"
      ]
     },
     "execution_count": 15,
     "metadata": {},
     "output_type": "execute_result"
    }
   ],
   "source": [
    "adv_14.shape"
   ]
  },
  {
   "cell_type": "code",
   "execution_count": 24,
   "metadata": {},
   "outputs": [],
   "source": [
    "G17 = G17.rename(columns={\n",
    "    'Author':'author',\n",
    "    'Title':'title',\n",
    "    'PublishedDate':'datepublished',\n",
    "    'ISBN13':'isbn13'\n",
    "})"
   ]
  },
  {
   "cell_type": "code",
   "execution_count": 74,
   "metadata": {},
   "outputs": [],
   "source": [
    "Gsales = pd.merge(G17,sales,on='isbn13')"
   ]
  },
  {
   "cell_type": "code",
   "execution_count": 79,
   "metadata": {},
   "outputs": [],
   "source": [
    "GSA = pd.merge(Gsales, adv_14, left_on='author', right_on='Author(s)')"
   ]
  },
  {
   "cell_type": "code",
   "execution_count": 82,
   "metadata": {},
   "outputs": [],
   "source": [
    "GSA['fuzz_ratio'] = GSA.apply(lambda x: levenshtein_ratio(str(x['title']).lower(), str(x['Title']).lower()), axis=1)"
   ]
  },
  {
   "cell_type": "code",
   "execution_count": 89,
   "metadata": {},
   "outputs": [],
   "source": [
    "GSA = GSA.groupby('isbn13', as_index=False).apply(lambda x : x.loc[x['fuzz_ratio'].idxmax()])\n",
    "GSA = GSA.groupby('advance_id', as_index=False).apply(lambda x : x.loc[x['fuzz_ratio'].idxmax()])"
   ]
  },
  {
   "cell_type": "code",
   "execution_count": 92,
   "metadata": {},
   "outputs": [],
   "source": [
    "#GSA.to_csv('GAuthors_merge_sales.csv')"
   ]
  },
  {
   "cell_type": "code",
   "execution_count": 111,
   "metadata": {},
   "outputs": [],
   "source": [
    "from ethnicolr import pred_fl_reg_name\n",
    "d = GSA.copy()\n",
    "dg = preprocess_names(d, 'author')\n",
    "d1 = dg.copy()\n",
    "eth = pred_fl_reg_name(dg,'Last Name', 'First Name')\n",
    "d1 = d1.merge(eth, on=[\n",
    "       'First Name', 'Last Name'])\n",
    "\n",
    "d1 = d1.drop(d1.filter(like='_y').columns, axis=1)\n",
    "d1.columns = [col.replace('_x', '') for col in d1.columns]"
   ]
  },
  {
   "cell_type": "code",
   "execution_count": 107,
   "metadata": {},
   "outputs": [],
   "source": [
    "d1.to_csv('GAuthors_merge_sales.csv')"
   ]
  },
  {
   "cell_type": "code",
   "execution_count": 100,
   "metadata": {},
   "outputs": [
    {
     "data": {
      "text/plain": [
       "Index(['author', 'title', 'datepublished', 'isbn13', 'Unnamed: 0',\n",
       "       'totalrevenue', 'totalunits', 'price', 'advance_id', 'Rights Category',\n",
       "       'Genre', 'Date', 'Author(s)', 'Title', 'Publishers',\n",
       "       'Big Publishing House Affilation', 'Advance', 'Competition', 'Awards',\n",
       "       'Bestseller', 'Self Publishing', 'Debut', 'Series', 'All', 'fuzz_ratio',\n",
       "       'First Name', 'Last Name', 'asian', 'hispanic', 'nh_black', 'nh_white',\n",
       "       'race'],\n",
       "      dtype='object')"
      ]
     },
     "execution_count": 100,
     "metadata": {},
     "output_type": "execute_result"
    }
   ],
   "source": [
    "d1.columns"
   ]
  },
  {
   "cell_type": "code",
   "execution_count": 112,
   "metadata": {},
   "outputs": [],
   "source": [
    "d1['diff_days'] = (d1['datepublished'] - d1['Date']).dt.days"
   ]
  },
  {
   "cell_type": "code",
   "execution_count": 113,
   "metadata": {},
   "outputs": [],
   "source": [
    "d1 = d1[(d1['diff_days'] >=90)]"
   ]
  },
  {
   "cell_type": "code",
   "execution_count": 114,
   "metadata": {},
   "outputs": [
    {
     "data": {
      "text/plain": [
       "(324, 33)"
      ]
     },
     "execution_count": 114,
     "metadata": {},
     "output_type": "execute_result"
    }
   ],
   "source": [
    "d1.shape"
   ]
  },
  {
   "cell_type": "code",
   "execution_count": null,
   "metadata": {},
   "outputs": [],
   "source": []
  },
  {
   "cell_type": "code",
   "execution_count": null,
   "metadata": {},
   "outputs": [],
   "source": []
  },
  {
   "cell_type": "code",
   "execution_count": null,
   "metadata": {},
   "outputs": [],
   "source": []
  },
  {
   "cell_type": "code",
   "execution_count": null,
   "metadata": {},
   "outputs": [],
   "source": []
  },
  {
   "cell_type": "code",
   "execution_count": null,
   "metadata": {},
   "outputs": [],
   "source": []
  },
  {
   "cell_type": "code",
   "execution_count": null,
   "metadata": {},
   "outputs": [],
   "source": []
  },
  {
   "cell_type": "code",
   "execution_count": null,
   "metadata": {},
   "outputs": [],
   "source": []
  },
  {
   "cell_type": "code",
   "execution_count": null,
   "metadata": {},
   "outputs": [],
   "source": []
  },
  {
   "cell_type": "code",
   "execution_count": null,
   "metadata": {},
   "outputs": [],
   "source": []
  },
  {
   "cell_type": "code",
   "execution_count": null,
   "metadata": {},
   "outputs": [],
   "source": []
  },
  {
   "cell_type": "code",
   "execution_count": null,
   "metadata": {},
   "outputs": [],
   "source": []
  },
  {
   "cell_type": "code",
   "execution_count": null,
   "metadata": {},
   "outputs": [],
   "source": []
  },
  {
   "cell_type": "code",
   "execution_count": 94,
   "metadata": {},
   "outputs": [],
   "source": [
    "import pandas as pd\n",
    "import re\n",
    "\n",
    "def preprocess_names(df, Column_Name):\n",
    "    #Remove space if the first letter of the word is a space\n",
    "    \n",
    "    df['temp_Column_Name'] = df[Column_Name]\n",
    "    df['temp_Column_Name'] = df['temp_Column_Name'].str.lstrip()\n",
    "    \n",
    "    #Remove single letter in the Names\n",
    "    #df[Column_Name] = df[Column_Name].str.replace(r'\\b[A-Za-z]\\b', '')\n",
    "    df['temp_Column_Name'] = df['temp_Column_Name'].apply(lambda x: ' '.join([w for w in x.split() if len(w) > 1]))\n",
    "    #Remove names in brackets\n",
    "    #df[Column_Name] = df[Column_Name].str.replace(r'\\s?\\([^()]*\\)', '')\n",
    "    df['temp_Column_Name'] = df['temp_Column_Name'].apply(lambda x: re.sub(\"[\\(\\[].*?[\\)\\]]\", \"\", x))\n",
    "    \n",
    "    rwords = ['Doctor','Professor','Captain','Jr','Sr','III','II', 'IV']\n",
    "    for word in rwords:\n",
    "        df.loc[:, 'temp_Column_Name'] = df['temp_Column_Name'].str.replace(word,\"\")\n",
    "        \n",
    "    df['temp_Column_Name'] = df['temp_Column_Name'].str.lstrip()\n",
    "    \n",
    "    df['First Name'] = df['temp_Column_Name'].str.split(\" \", expand=True)[0]\n",
    "    df['Last Name'] = df['temp_Column_Name'].str.split().str[-1]\n",
    "    df.drop(columns=['temp_Column_Name'], inplace=True)\n",
    "    return df"
   ]
  },
  {
   "cell_type": "markdown",
   "metadata": {},
   "source": [
    "## Trying to match authors after removing punctuations"
   ]
  },
  {
   "cell_type": "code",
   "execution_count": 164,
   "metadata": {},
   "outputs": [
    {
     "data": {
      "text/plain": [
       "\"\\ndf['Author(s)'] = df['Author(s)'].apply(remove_punctuation)\\ndf['author'] = df['author'].apply(remove_punctuation)\\n\\ndf['Author(s)'] = df['Author(s)'].str.replace(r'\\x08\\\\w{1,2}\\x08', '', regex=True)\\ndf['author'] = df['author'].str.replace(r'\\x08\\\\w{1,2}\\x08', '', regex=True)\\n\\ndf['max_ratio'] = df.apply(lambda x: levenshtein_ratio(str(x['Author(s)']).lower(), str(x['author']).lower()), axis=1)\\n\""
      ]
     },
     "execution_count": 164,
     "metadata": {},
     "output_type": "execute_result"
    }
   ],
   "source": [
    "import string\n",
    "\n",
    "def remove_punctuation(text):\n",
    "    # Create a translation table with punctuation characters mapped to None\n",
    "    translator = str.maketrans('', '', string.punctuation)\n",
    "    # Remove punctuation using the translation table\n",
    "    text = text.translate(translator)\n",
    "    return text\n",
    "'''\n",
    "df['Author(s)'] = df['Author(s)'].apply(remove_punctuation)\n",
    "df['author'] = df['author'].apply(remove_punctuation)\n",
    "\n",
    "df['Author(s)'] = df['Author(s)'].str.replace(r'\\b\\w{1,2}\\b', '', regex=True)\n",
    "df['author'] = df['author'].str.replace(r'\\b\\w{1,2}\\b', '', regex=True)\n",
    "\n",
    "df['max_ratio'] = df.apply(lambda x: levenshtein_ratio(str(x['Author(s)']).lower(), str(x['author']).lower()), axis=1)\n",
    "'''\n"
   ]
  },
  {
   "cell_type": "code",
   "execution_count": 169,
   "metadata": {},
   "outputs": [],
   "source": [
    "book = book[~book['author'].isna()]"
   ]
  },
  {
   "cell_type": "code",
   "execution_count": 175,
   "metadata": {},
   "outputs": [
    {
     "name": "stderr",
     "output_type": "stream",
     "text": [
      "<ipython-input-175-d160a0da28b3>:4: SettingWithCopyWarning: \n",
      "A value is trying to be set on a copy of a slice from a DataFrame.\n",
      "Try using .loc[row_indexer,col_indexer] = value instead\n",
      "\n",
      "See the caveats in the documentation: https://pandas.pydata.org/pandas-docs/stable/user_guide/indexing.html#returning-a-view-versus-a-copy\n",
      "  book['Author_punc'] = book['author'].apply(remove_punctuation)\n",
      "<ipython-input-175-d160a0da28b3>:5: SettingWithCopyWarning: \n",
      "A value is trying to be set on a copy of a slice from a DataFrame.\n",
      "Try using .loc[row_indexer,col_indexer] = value instead\n",
      "\n",
      "See the caveats in the documentation: https://pandas.pydata.org/pandas-docs/stable/user_guide/indexing.html#returning-a-view-versus-a-copy\n",
      "  book['Author_punc'] = book['Author_punc'].str.replace(r'\\b\\w{1,2}\\b', '', regex=True)\n",
      "<ipython-input-175-d160a0da28b3>:6: SettingWithCopyWarning: \n",
      "A value is trying to be set on a copy of a slice from a DataFrame.\n",
      "Try using .loc[row_indexer,col_indexer] = value instead\n",
      "\n",
      "See the caveats in the documentation: https://pandas.pydata.org/pandas-docs/stable/user_guide/indexing.html#returning-a-view-versus-a-copy\n",
      "  book['Author_punc'] = book['Author_punc'].apply(lambda x: x.lower())\n"
     ]
    }
   ],
   "source": [
    "adv['Author_punc'] = adv['Author(s)'].apply(remove_punctuation)\n",
    "adv['Author_punc'] = adv['Author_punc'].str.replace(r'\\b\\w{1,2}\\b', '', regex=True)\n",
    "adv['Author_punc'] = adv['Author_punc'].apply(lambda x: x.lower())\n",
    "book['Author_punc'] = book['author'].apply(remove_punctuation)\n",
    "book['Author_punc'] = book['Author_punc'].str.replace(r'\\b\\w{1,2}\\b', '', regex=True)\n",
    "book['Author_punc'] = book['Author_punc'].apply(lambda x: x.lower())\n"
   ]
  },
  {
   "cell_type": "code",
   "execution_count": 176,
   "metadata": {},
   "outputs": [],
   "source": [
    "pbook_adv = pd.merge(adv, book, on ='Author_punc')"
   ]
  },
  {
   "cell_type": "code",
   "execution_count": 177,
   "metadata": {},
   "outputs": [
    {
     "name": "stdout",
     "output_type": "stream",
     "text": [
      "(41935, 21) (3769,)\n"
     ]
    }
   ],
   "source": [
    "print(pbook_adv.shape, pbook_adv['Author_punc'].unique().shape)"
   ]
  },
  {
   "cell_type": "code",
   "execution_count": null,
   "metadata": {},
   "outputs": [],
   "source": []
  }
 ],
 "metadata": {
  "kernelspec": {
   "display_name": "Python 3",
   "language": "python",
   "name": "python3"
  },
  "language_info": {
   "codemirror_mode": {
    "name": "ipython",
    "version": 3
   },
   "file_extension": ".py",
   "mimetype": "text/x-python",
   "name": "python",
   "nbconvert_exporter": "python",
   "pygments_lexer": "ipython3",
   "version": "3.8.8"
  },
  "toc-autonumbering": false,
  "toc-showcode": false,
  "vscode": {
   "interpreter": {
    "hash": "a3d4d913094288ad2e325490844d30a15ba7a1a26872c37e4069b2a130ebe912"
   }
  }
 },
 "nbformat": 4,
 "nbformat_minor": 4
}
