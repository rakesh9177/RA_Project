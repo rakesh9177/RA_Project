{
 "cells": [
  {
   "cell_type": "code",
   "execution_count": 1,
   "id": "f883bcfb-8f63-4ead-82d9-1a57a695c82a",
   "metadata": {},
   "outputs": [],
   "source": [
    "import pandas as pd\n",
    "import re"
   ]
  },
  {
   "cell_type": "code",
   "execution_count": 2,
   "id": "88f6861c-6d93-46b0-8479-13c8211dc5d7",
   "metadata": {},
   "outputs": [],
   "source": [
    "\n",
    "def preprocess_names(df, Column_Name):\n",
    "    #Remove space if the first letter of the word is a space\n",
    "    df['temp_Column_Name'] = df[Column_Name]\n",
    "    df['temp_Column_Name'] = df['temp_Column_Name'].str.lstrip()\n",
    "    \n",
    "    #Remove single letter in the Names\n",
    "    #df[Column_Name] = df[Column_Name].str.replace(r'\\b[A-Za-z]\\b', '')\n",
    "    df['temp_Column_Name'] = df['temp_Column_Name'].apply(lambda x: ' '.join([w for w in x.split() if len(w) > 1]))\n",
    "    #Remove names in brackets\n",
    "    #df[Column_Name] = df[Column_Name].str.replace(r'\\s?\\([^()]*\\)', '')\n",
    "    df['temp_Column_Name'] = df['temp_Column_Name'].apply(lambda x: re.sub(\"[\\(\\[].*?[\\)\\]]\", \"\", x))\n",
    "    \n",
    "    rwords = ['Doctor','Professor','Captain','Jr','Sr','III','II', 'IV']\n",
    "    for word in rwords:\n",
    "        df.loc[:, 'temp_Column_Name'] = df['temp_Column_Name'].str.replace(word,\"\")\n",
    "        \n",
    "    df['temp_Column_Name'] = df['temp_Column_Name'].str.lstrip()\n",
    "    \n",
    "    df['First Name'] = df['temp_Column_Name'].str.split(\" \", expand=True)[0]\n",
    "    df['Last Name'] = df['temp_Column_Name'].str.split().str[-1]\n",
    "    df.drop(columns=['temp_Column_Name'], inplace=True)\n",
    "    return df"
   ]
  },
  {
   "cell_type": "code",
   "execution_count": 3,
   "id": "b00472c3-df9e-42af-aba6-2dcb078fdea9",
   "metadata": {},
   "outputs": [],
   "source": [
    "dx = pd.read_excel('Master List - position types.xlsx')"
   ]
  },
  {
   "cell_type": "code",
   "execution_count": 4,
   "id": "04f31dbe-e4a1-434f-8c6c-ba91f53fee63",
   "metadata": {},
   "outputs": [
    {
     "data": {
      "text/plain": [
       "0           Michael (Mike) B Tully\n",
       "1                  Mary R Hennessy\n",
       "2        James (JK) Kevin Symancyk\n",
       "3            Kenneth (Ken) C Hicks\n",
       "4                     Anita Sehgal\n",
       "                   ...            \n",
       "14984                    Eric Liaw\n",
       "14985                    Eric Liaw\n",
       "14986                   Ian Siegel\n",
       "14987                   Yvonne Hao\n",
       "14988         David (Dave) Travers\n",
       "Name: Director Name, Length: 14989, dtype: object"
      ]
     },
     "execution_count": 4,
     "metadata": {},
     "output_type": "execute_result"
    }
   ],
   "source": [
    "dx['Director Name']"
   ]
  },
  {
   "cell_type": "code",
   "execution_count": 5,
   "id": "63bedfc1-1f36-4b9a-baa3-a3c1cf5db2c8",
   "metadata": {},
   "outputs": [],
   "source": [
    "dg = preprocess_names(dx, 'Director Name')"
   ]
  },
  {
   "cell_type": "code",
   "execution_count": 6,
   "id": "3eedf04b-dbf4-4785-9efd-fb89d8e69e79",
   "metadata": {},
   "outputs": [
    {
     "data": {
      "text/plain": [
       "(14989, 9)"
      ]
     },
     "execution_count": 6,
     "metadata": {},
     "output_type": "execute_result"
    }
   ],
   "source": [
    "dg.shape"
   ]
  },
  {
   "cell_type": "code",
   "execution_count": 7,
   "id": "7f2dbc71-ca0b-4bc5-b953-c28d4b00b0c0",
   "metadata": {},
   "outputs": [],
   "source": [
    "import gender_guesser.detector as gender\n",
    "\n",
    "d = gender.Detector(case_sensitive=False)\n",
    "dg['gender'] = dg['First Name'].apply(lambda x : d.get_gender(x))"
   ]
  },
  {
   "cell_type": "code",
   "execution_count": 8,
   "id": "2f296c08-69cf-4912-945c-abc5b69af485",
   "metadata": {},
   "outputs": [
    {
     "data": {
      "text/plain": [
       "(14989, 10)"
      ]
     },
     "execution_count": 8,
     "metadata": {},
     "output_type": "execute_result"
    }
   ],
   "source": [
    "dg.shape"
   ]
  },
  {
   "cell_type": "code",
   "execution_count": 9,
   "id": "9f9b7c01-67de-415d-9803-70e2bfb40354",
   "metadata": {},
   "outputs": [],
   "source": [
    "dx = dg.copy()"
   ]
  },
  {
   "cell_type": "code",
   "execution_count": 10,
   "id": "4da72a7c-2399-4fb7-bb99-e68e88ad3220",
   "metadata": {},
   "outputs": [
    {
     "name": "stdout",
     "output_type": "stream",
     "text": [
      "WARNING:tensorflow:Layer lstm will not use cuDNN kernels since it doesn't meet the criteria. It will use a generic GPU kernel as fallback when running on GPU.\n"
     ]
    }
   ],
   "source": [
    "from ethnicolr import pred_fl_reg_name\n",
    "\n",
    "eth = pred_fl_reg_name(dx,'Last Name', 'First Name')"
   ]
  },
  {
   "cell_type": "code",
   "execution_count": 12,
   "id": "4308f322-15b1-4e8f-ac85-3a9ba366c0f0",
   "metadata": {},
   "outputs": [
    {
     "name": "stdout",
     "output_type": "stream",
     "text": [
      "(6360, 15) (6360, 11)\n"
     ]
    }
   ],
   "source": [
    "print(eth.shape, dx.shape)"
   ]
  },
  {
   "cell_type": "code",
   "execution_count": 33,
   "id": "521a1a50-00d3-4988-864b-e86572ced84e",
   "metadata": {},
   "outputs": [],
   "source": [
    "dg1 = dg.copy()"
   ]
  },
  {
   "cell_type": "code",
   "execution_count": 34,
   "id": "9823ff3a-e9cf-402e-a66d-ff954014302e",
   "metadata": {},
   "outputs": [
    {
     "data": {
      "text/plain": [
       "Index(['Company Name', 'Director Name', 'id (boardex)', 'Role',\n",
       "       'Role Description (if applicable)', 'Start Date', 'End Date',\n",
       "       'First Name', 'Last Name', 'gender'],\n",
       "      dtype='object')"
      ]
     },
     "execution_count": 34,
     "metadata": {},
     "output_type": "execute_result"
    }
   ],
   "source": [
    "dg1.columns"
   ]
  },
  {
   "cell_type": "code",
   "execution_count": 35,
   "id": "aaafed58-7a04-4ca7-a9bc-0582c7bbce58",
   "metadata": {},
   "outputs": [
    {
     "data": {
      "text/plain": [
       "Index(['Company Name', 'Director Name', 'id (boardex)', 'Role',\n",
       "       'Role Description (if applicable)', 'Start Date', 'End Date',\n",
       "       'First Name', 'Last Name', 'gender', 'asian', 'hispanic', 'nh_black',\n",
       "       'nh_white', 'race'],\n",
       "      dtype='object')"
      ]
     },
     "execution_count": 35,
     "metadata": {},
     "output_type": "execute_result"
    }
   ],
   "source": [
    "eth.columns"
   ]
  },
  {
   "cell_type": "code",
   "execution_count": 36,
   "id": "cd9f7938-6450-4ad1-ae62-d6011decca76",
   "metadata": {},
   "outputs": [],
   "source": [
    "dg1 = dg1.merge(eth, on=[\n",
    "       'First Name', 'Last Name'])"
   ]
  },
  {
   "cell_type": "code",
   "execution_count": 41,
   "id": "9d2650cd-ff1d-4c82-88d0-fc2485178ae7",
   "metadata": {},
   "outputs": [],
   "source": [
    "full_df = dg1.copy()"
   ]
  },
  {
   "cell_type": "code",
   "execution_count": 42,
   "id": "37c611d1-77ce-48a1-9310-5e75b1d06bdf",
   "metadata": {},
   "outputs": [],
   "source": [
    "full_df = full_df[['Company Name_x', 'Director Name_x', 'id (boardex)_x', 'Role_x',\n",
    "       'Role Description (if applicable)_x', 'Start Date_x', 'End Date_x',\n",
    "       'First Name', 'Last Name', 'gender_x','asian', 'hispanic', 'nh_black', 'nh_white', 'race']]"
   ]
  },
  {
   "cell_type": "code",
   "execution_count": 43,
   "id": "0b974ef6-b400-43f9-b6a9-e3fd45d968e0",
   "metadata": {},
   "outputs": [],
   "source": [
    "full_df = full_df.rename(columns={\n",
    "    'Company Name_x': 'Company Name', \n",
    "    'Director Name_x':'Director Name', \n",
    "    'id (boardex)_x':'id (boardex)', \n",
    "    'Role_x':'Role',\n",
    "    'Role Description (if applicable)_x':'Role Description (if applicable)',\n",
    "    'Start Date_x':'Start Date', \n",
    "    'End Date_x':'End Date',\n",
    "    'gender_x':'gender'\n",
    "})"
   ]
  },
  {
   "cell_type": "code",
   "execution_count": 44,
   "id": "45dad02a-fd32-45fd-858d-afc941837461",
   "metadata": {},
   "outputs": [
    {
     "data": {
      "text/html": [
       "<div>\n",
       "<style scoped>\n",
       "    .dataframe tbody tr th:only-of-type {\n",
       "        vertical-align: middle;\n",
       "    }\n",
       "\n",
       "    .dataframe tbody tr th {\n",
       "        vertical-align: top;\n",
       "    }\n",
       "\n",
       "    .dataframe thead th {\n",
       "        text-align: right;\n",
       "    }\n",
       "</style>\n",
       "<table border=\"1\" class=\"dataframe\">\n",
       "  <thead>\n",
       "    <tr style=\"text-align: right;\">\n",
       "      <th></th>\n",
       "      <th>Company Name</th>\n",
       "      <th>Director Name</th>\n",
       "      <th>id (boardex)</th>\n",
       "      <th>Role</th>\n",
       "      <th>Role Description (if applicable)</th>\n",
       "      <th>Start Date</th>\n",
       "      <th>End Date</th>\n",
       "      <th>First Name</th>\n",
       "      <th>Last Name</th>\n",
       "      <th>gender</th>\n",
       "      <th>asian</th>\n",
       "      <th>hispanic</th>\n",
       "      <th>nh_black</th>\n",
       "      <th>nh_white</th>\n",
       "      <th>race</th>\n",
       "    </tr>\n",
       "  </thead>\n",
       "  <tbody>\n",
       "    <tr>\n",
       "      <th>0</th>\n",
       "      <td>AAA Life Insurance Co</td>\n",
       "      <td>Michael (Mike) B Tully</td>\n",
       "      <td>22555745259</td>\n",
       "      <td>Director - SD</td>\n",
       "      <td>NaN</td>\n",
       "      <td>1998</td>\n",
       "      <td>2017-07-01 00:00:00</td>\n",
       "      <td>Michael</td>\n",
       "      <td>Tully</td>\n",
       "      <td>male</td>\n",
       "      <td>0.002142</td>\n",
       "      <td>0.010533</td>\n",
       "      <td>0.104182</td>\n",
       "      <td>0.883143</td>\n",
       "      <td>nh_white</td>\n",
       "    </tr>\n",
       "    <tr>\n",
       "      <th>1</th>\n",
       "      <td>AAA Life Insurance Co</td>\n",
       "      <td>Mary R Hennessy</td>\n",
       "      <td>3671227737</td>\n",
       "      <td>Chairman</td>\n",
       "      <td>NaN</td>\n",
       "      <td>2018-09-01 00:00:00</td>\n",
       "      <td>Current</td>\n",
       "      <td>Mary</td>\n",
       "      <td>Hennessy</td>\n",
       "      <td>mostly_female</td>\n",
       "      <td>0.002049</td>\n",
       "      <td>0.007915</td>\n",
       "      <td>0.046994</td>\n",
       "      <td>0.943042</td>\n",
       "      <td>nh_white</td>\n",
       "    </tr>\n",
       "    <tr>\n",
       "      <th>2</th>\n",
       "      <td>Academy Ltd (Academy Sports + Outdoors)</td>\n",
       "      <td>James (JK) Kevin Symancyk</td>\n",
       "      <td>15201918545</td>\n",
       "      <td>President/CEO</td>\n",
       "      <td>NaN</td>\n",
       "      <td>2015-11-02 00:00:00</td>\n",
       "      <td>2018-05-16 00:00:00</td>\n",
       "      <td>James</td>\n",
       "      <td>Symancyk</td>\n",
       "      <td>male</td>\n",
       "      <td>0.001452</td>\n",
       "      <td>0.003475</td>\n",
       "      <td>0.019194</td>\n",
       "      <td>0.975880</td>\n",
       "      <td>nh_white</td>\n",
       "    </tr>\n",
       "    <tr>\n",
       "      <th>3</th>\n",
       "      <td>Meijer Inc</td>\n",
       "      <td>James (JK) Kevin Symancyk</td>\n",
       "      <td>15201918545</td>\n",
       "      <td>President</td>\n",
       "      <td>NaN</td>\n",
       "      <td>2013-02-03 00:00:00</td>\n",
       "      <td>2015-10-01 00:00:00</td>\n",
       "      <td>James</td>\n",
       "      <td>Symancyk</td>\n",
       "      <td>male</td>\n",
       "      <td>0.001452</td>\n",
       "      <td>0.003475</td>\n",
       "      <td>0.019194</td>\n",
       "      <td>0.975880</td>\n",
       "      <td>nh_white</td>\n",
       "    </tr>\n",
       "    <tr>\n",
       "      <th>4</th>\n",
       "      <td>Meijer Inc</td>\n",
       "      <td>James (JK) Kevin Symancyk</td>\n",
       "      <td>15201918545</td>\n",
       "      <td>Group VP</td>\n",
       "      <td>Perishables</td>\n",
       "      <td>2006-10-01 00:00:00</td>\n",
       "      <td>2007</td>\n",
       "      <td>James</td>\n",
       "      <td>Symancyk</td>\n",
       "      <td>male</td>\n",
       "      <td>0.001452</td>\n",
       "      <td>0.003475</td>\n",
       "      <td>0.019194</td>\n",
       "      <td>0.975880</td>\n",
       "      <td>nh_white</td>\n",
       "    </tr>\n",
       "    <tr>\n",
       "      <th>...</th>\n",
       "      <td>...</td>\n",
       "      <td>...</td>\n",
       "      <td>...</td>\n",
       "      <td>...</td>\n",
       "      <td>...</td>\n",
       "      <td>...</td>\n",
       "      <td>...</td>\n",
       "      <td>...</td>\n",
       "      <td>...</td>\n",
       "      <td>...</td>\n",
       "      <td>...</td>\n",
       "      <td>...</td>\n",
       "      <td>...</td>\n",
       "      <td>...</td>\n",
       "      <td>...</td>\n",
       "    </tr>\n",
       "    <tr>\n",
       "      <th>14984</th>\n",
       "      <td>ZIPRECRUITER INC</td>\n",
       "      <td>Cipora Herman</td>\n",
       "      <td>187220611506</td>\n",
       "      <td>Lead Independent Director</td>\n",
       "      <td>NaN</td>\n",
       "      <td>2021-05-26 00:00:00</td>\n",
       "      <td>Current</td>\n",
       "      <td>Cipora</td>\n",
       "      <td>Herman</td>\n",
       "      <td>unknown</td>\n",
       "      <td>0.103955</td>\n",
       "      <td>0.117007</td>\n",
       "      <td>0.091652</td>\n",
       "      <td>0.687386</td>\n",
       "      <td>nh_white</td>\n",
       "    </tr>\n",
       "    <tr>\n",
       "      <th>14985</th>\n",
       "      <td>ZIPRECRUITER INC</td>\n",
       "      <td>Emily McEvilly</td>\n",
       "      <td>22540585244</td>\n",
       "      <td>Independent Director</td>\n",
       "      <td>NaN</td>\n",
       "      <td>2022-09-01 00:00:00</td>\n",
       "      <td>Current</td>\n",
       "      <td>Emily</td>\n",
       "      <td>McEvilly</td>\n",
       "      <td>female</td>\n",
       "      <td>0.003221</td>\n",
       "      <td>0.017185</td>\n",
       "      <td>0.020939</td>\n",
       "      <td>0.958656</td>\n",
       "      <td>nh_white</td>\n",
       "    </tr>\n",
       "    <tr>\n",
       "      <th>14986</th>\n",
       "      <td>ZIPRECRUITER INC</td>\n",
       "      <td>Eric Liaw</td>\n",
       "      <td>81185810522</td>\n",
       "      <td>Independent Director</td>\n",
       "      <td>NaN</td>\n",
       "      <td>2021-05-26 00:00:00</td>\n",
       "      <td>Current</td>\n",
       "      <td>Eric</td>\n",
       "      <td>Liaw</td>\n",
       "      <td>male</td>\n",
       "      <td>0.013964</td>\n",
       "      <td>0.021110</td>\n",
       "      <td>0.087865</td>\n",
       "      <td>0.877061</td>\n",
       "      <td>nh_white</td>\n",
       "    </tr>\n",
       "    <tr>\n",
       "      <th>14987</th>\n",
       "      <td>ZIPRECRUITER INC</td>\n",
       "      <td>Eric Liaw</td>\n",
       "      <td>81185810522</td>\n",
       "      <td>Independent Director</td>\n",
       "      <td>NaN</td>\n",
       "      <td>2021-05-26 00:00:00</td>\n",
       "      <td>Current</td>\n",
       "      <td>Eric</td>\n",
       "      <td>Liaw</td>\n",
       "      <td>male</td>\n",
       "      <td>0.013964</td>\n",
       "      <td>0.021110</td>\n",
       "      <td>0.087865</td>\n",
       "      <td>0.877061</td>\n",
       "      <td>nh_white</td>\n",
       "    </tr>\n",
       "    <tr>\n",
       "      <th>14988</th>\n",
       "      <td>ZIPRECRUITER INC</td>\n",
       "      <td>Yvonne Hao</td>\n",
       "      <td>7913348749</td>\n",
       "      <td>Independent Director</td>\n",
       "      <td>NaN</td>\n",
       "      <td>2022-07-29 00:00:00</td>\n",
       "      <td>Current</td>\n",
       "      <td>Yvonne</td>\n",
       "      <td>Hao</td>\n",
       "      <td>female</td>\n",
       "      <td>0.431047</td>\n",
       "      <td>0.053523</td>\n",
       "      <td>0.075910</td>\n",
       "      <td>0.439519</td>\n",
       "      <td>nh_white</td>\n",
       "    </tr>\n",
       "  </tbody>\n",
       "</table>\n",
       "<p>14989 rows × 15 columns</p>\n",
       "</div>"
      ],
      "text/plain": [
       "                                  Company Name              Director Name   \n",
       "0                        AAA Life Insurance Co     Michael (Mike) B Tully  \\\n",
       "1                        AAA Life Insurance Co            Mary R Hennessy   \n",
       "2      Academy Ltd (Academy Sports + Outdoors)  James (JK) Kevin Symancyk   \n",
       "3                                   Meijer Inc  James (JK) Kevin Symancyk   \n",
       "4                                   Meijer Inc  James (JK) Kevin Symancyk   \n",
       "...                                        ...                        ...   \n",
       "14984                         ZIPRECRUITER INC              Cipora Herman   \n",
       "14985                         ZIPRECRUITER INC             Emily McEvilly   \n",
       "14986                         ZIPRECRUITER INC                  Eric Liaw   \n",
       "14987                         ZIPRECRUITER INC                  Eric Liaw   \n",
       "14988                         ZIPRECRUITER INC                 Yvonne Hao   \n",
       "\n",
       "       id (boardex)                       Role   \n",
       "0       22555745259              Director - SD  \\\n",
       "1        3671227737                   Chairman   \n",
       "2       15201918545              President/CEO   \n",
       "3       15201918545                  President   \n",
       "4       15201918545                   Group VP   \n",
       "...             ...                        ...   \n",
       "14984  187220611506  Lead Independent Director   \n",
       "14985   22540585244       Independent Director   \n",
       "14986   81185810522       Independent Director   \n",
       "14987   81185810522       Independent Director   \n",
       "14988    7913348749       Independent Director   \n",
       "\n",
       "      Role Description (if applicable)           Start Date   \n",
       "0                                  NaN                 1998  \\\n",
       "1                                  NaN  2018-09-01 00:00:00   \n",
       "2                                  NaN  2015-11-02 00:00:00   \n",
       "3                                  NaN  2013-02-03 00:00:00   \n",
       "4                          Perishables  2006-10-01 00:00:00   \n",
       "...                                ...                  ...   \n",
       "14984                              NaN  2021-05-26 00:00:00   \n",
       "14985                              NaN  2022-09-01 00:00:00   \n",
       "14986                              NaN  2021-05-26 00:00:00   \n",
       "14987                              NaN  2021-05-26 00:00:00   \n",
       "14988                              NaN  2022-07-29 00:00:00   \n",
       "\n",
       "                  End Date First Name Last Name         gender     asian   \n",
       "0      2017-07-01 00:00:00    Michael     Tully           male  0.002142  \\\n",
       "1                  Current       Mary  Hennessy  mostly_female  0.002049   \n",
       "2      2018-05-16 00:00:00      James  Symancyk           male  0.001452   \n",
       "3      2015-10-01 00:00:00      James  Symancyk           male  0.001452   \n",
       "4                     2007      James  Symancyk           male  0.001452   \n",
       "...                    ...        ...       ...            ...       ...   \n",
       "14984              Current     Cipora    Herman        unknown  0.103955   \n",
       "14985              Current      Emily  McEvilly         female  0.003221   \n",
       "14986              Current       Eric      Liaw           male  0.013964   \n",
       "14987              Current       Eric      Liaw           male  0.013964   \n",
       "14988              Current     Yvonne       Hao         female  0.431047   \n",
       "\n",
       "       hispanic  nh_black  nh_white      race  \n",
       "0      0.010533  0.104182  0.883143  nh_white  \n",
       "1      0.007915  0.046994  0.943042  nh_white  \n",
       "2      0.003475  0.019194  0.975880  nh_white  \n",
       "3      0.003475  0.019194  0.975880  nh_white  \n",
       "4      0.003475  0.019194  0.975880  nh_white  \n",
       "...         ...       ...       ...       ...  \n",
       "14984  0.117007  0.091652  0.687386  nh_white  \n",
       "14985  0.017185  0.020939  0.958656  nh_white  \n",
       "14986  0.021110  0.087865  0.877061  nh_white  \n",
       "14987  0.021110  0.087865  0.877061  nh_white  \n",
       "14988  0.053523  0.075910  0.439519  nh_white  \n",
       "\n",
       "[14989 rows x 15 columns]"
      ]
     },
     "execution_count": 44,
     "metadata": {},
     "output_type": "execute_result"
    }
   ],
   "source": [
    "full_df.to_csv('')"
   ]
  },
  {
   "cell_type": "code",
   "execution_count": 45,
   "id": "fa0b7924-24de-440b-8f80-a05dc797e37d",
   "metadata": {},
   "outputs": [],
   "source": [
    "full_df.to_csv('Master_List_with_Ethinicity_and_gender.csv')"
   ]
  },
  {
   "cell_type": "code",
   "execution_count": null,
   "id": "06480652-9bb0-48fb-9c04-7ec6ab434af4",
   "metadata": {},
   "outputs": [],
   "source": []
  }
 ],
 "metadata": {
  "kernelspec": {
   "display_name": "Python 3",
   "language": "python",
   "name": "python3"
  },
  "language_info": {
   "codemirror_mode": {
    "name": "ipython",
    "version": 3
   },
   "file_extension": ".py",
   "mimetype": "text/x-python",
   "name": "python",
   "nbconvert_exporter": "python",
   "pygments_lexer": "ipython3",
   "version": "3.8.8"
  }
 },
 "nbformat": 4,
 "nbformat_minor": 5
}
