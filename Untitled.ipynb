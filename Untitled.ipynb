{
 "cells": [
  {
   "cell_type": "code",
   "execution_count": 1,
   "id": "5abe018e-4ec5-4a84-a944-9f773197af64",
   "metadata": {},
   "outputs": [],
   "source": [
    "import pandas as pd"
   ]
  },
  {
   "cell_type": "code",
   "execution_count": 2,
   "id": "331d784a-3c1d-479e-880c-5ca601ab4884",
   "metadata": {},
   "outputs": [],
   "source": [
    "df_ebook = pd.read_stata('Files/merged_slim_data_ebook_noDups.dta')\n"
   ]
  },
  {
   "cell_type": "code",
   "execution_count": 110,
   "id": "84d872af-7107-4597-a44d-0544d64ea5eb",
   "metadata": {},
   "outputs": [
    {
     "data": {
      "text/plain": [
       "Index(['2PRACE', 'Hispanic', 'API', 'Black', 'AIAN', 'White', 'first_name',\n",
       "       'last_name', 'isbn13'],\n",
       "      dtype='object')"
      ]
     },
     "execution_count": 110,
     "metadata": {},
     "output_type": "execute_result"
    }
   ],
   "source": [
    "df_nameprism.columns"
   ]
  },
  {
   "cell_type": "code",
   "execution_count": 3,
   "id": "6f52b83c-b504-4afe-95f6-5f262305375c",
   "metadata": {},
   "outputs": [],
   "source": [
    "df_nameprism = pd.read_excel('Files/processed_authors_nameprism_withISBN13.xlsx')"
   ]
  },
  {
   "cell_type": "code",
   "execution_count": 5,
   "id": "3f0ec401-34de-4ec9-825c-1e1b2a94511e",
   "metadata": {},
   "outputs": [],
   "source": [
    "df_nameprism = df_nameprism[~df_nameprism['isbn13'].isna()]"
   ]
  },
  {
   "cell_type": "code",
   "execution_count": 6,
   "id": "8bc8b770-0c9f-4a13-8eef-d64f3eb58ec1",
   "metadata": {},
   "outputs": [],
   "source": [
    "df = pd.merge(df_ebook, df_nameprism, on='isbn13')"
   ]
  },
  {
   "cell_type": "code",
   "execution_count": 23,
   "id": "5b92bcb9-9391-4ad8-aafc-552004224374",
   "metadata": {},
   "outputs": [],
   "source": [
    "\n",
    "df_advances = pd.read_excel('author_advance_dataset.xlsx', index_col=0)"
   ]
  },
  {
   "cell_type": "code",
   "execution_count": 111,
   "id": "96d65cb5-596f-462c-9ec2-97c6e03a861b",
   "metadata": {},
   "outputs": [
    {
     "data": {
      "text/plain": [
       "Index(['Rights Category', 'Genre', 'Date', 'Author(s)', 'Title', 'Publishers',\n",
       "       'Big Publishing House Affilation', 'Advance', 'Competition', 'Awards',\n",
       "       'Bestseller', 'Self Publishing', 'Debut', 'Series', 'All'],\n",
       "      dtype='object')"
      ]
     },
     "execution_count": 111,
     "metadata": {},
     "output_type": "execute_result"
    }
   ],
   "source": [
    "df_advances.columns"
   ]
  },
  {
   "cell_type": "code",
   "execution_count": 24,
   "id": "d6498564-b745-494f-b246-4cdcca682501",
   "metadata": {},
   "outputs": [],
   "source": [
    "df_advances = df_advances[~df_advances['Advance'].isna()]"
   ]
  },
  {
   "cell_type": "code",
   "execution_count": 29,
   "id": "c22ac03b-647f-426c-9ba2-e3ecf1ce30d3",
   "metadata": {},
   "outputs": [],
   "source": [
    "df_advances = df_advances[df_advances['Author(s)'] != 'NONE']"
   ]
  },
  {
   "cell_type": "code",
   "execution_count": 37,
   "id": "8f3008fc-bfca-4440-b9e1-690448987d45",
   "metadata": {},
   "outputs": [],
   "source": [
    "df_advances['Author(s)'] = df_advances['Author(s)'].astype(str)"
   ]
  },
  {
   "cell_type": "code",
   "execution_count": 38,
   "id": "5ead8568-8b48-48cc-bd56-10e1d139b3e9",
   "metadata": {},
   "outputs": [
    {
     "data": {
      "text/plain": [
       "Rights Category                            object\n",
       "Genre                                      object\n",
       "Date                               datetime64[ns]\n",
       "Author(s)                                  object\n",
       "Title                                      object\n",
       "Publishers                                 object\n",
       "Big Publishing House Affilation            object\n",
       "Advance                                    object\n",
       "Competition                                object\n",
       "Awards                                     object\n",
       "Bestseller                                 object\n",
       "Self Publishing                            object\n",
       "Debut                                      object\n",
       "Series                                     object\n",
       "All                                        object\n",
       "dtype: object"
      ]
     },
     "execution_count": 38,
     "metadata": {},
     "output_type": "execute_result"
    }
   ],
   "source": [
    "df_advances.dtypes"
   ]
  },
  {
   "cell_type": "code",
   "execution_count": 65,
   "id": "27726440-a28a-4e1f-acd9-05a21ca15732",
   "metadata": {},
   "outputs": [
    {
     "data": {
      "text/html": [
       "<div>\n",
       "<style scoped>\n",
       "    .dataframe tbody tr th:only-of-type {\n",
       "        vertical-align: middle;\n",
       "    }\n",
       "\n",
       "    .dataframe tbody tr th {\n",
       "        vertical-align: top;\n",
       "    }\n",
       "\n",
       "    .dataframe thead th {\n",
       "        text-align: right;\n",
       "    }\n",
       "</style>\n",
       "<table border=\"1\" class=\"dataframe\">\n",
       "  <thead>\n",
       "    <tr style=\"text-align: right;\">\n",
       "      <th></th>\n",
       "      <th>price</th>\n",
       "      <th>totalrevenue</th>\n",
       "      <th>isbn13</th>\n",
       "      <th>soldunits</th>\n",
       "      <th>filename</th>\n",
       "      <th>2PRACE</th>\n",
       "      <th>Hispanic</th>\n",
       "      <th>API</th>\n",
       "      <th>Black</th>\n",
       "      <th>AIAN</th>\n",
       "      <th>White</th>\n",
       "      <th>first_name</th>\n",
       "      <th>last_name</th>\n",
       "    </tr>\n",
       "  </thead>\n",
       "  <tbody>\n",
       "    <tr>\n",
       "      <th>671947</th>\n",
       "      <td>314</td>\n",
       "      <td>2512</td>\n",
       "      <td>9.781496e+12</td>\n",
       "      <td>8</td>\n",
       "      <td>sales_ebook20170901_20170930.csv</td>\n",
       "      <td>0.000651</td>\n",
       "      <td>0.003075</td>\n",
       "      <td>0.001166</td>\n",
       "      <td>0.116733</td>\n",
       "      <td>0.002681</td>\n",
       "      <td>0.875694</td>\n",
       "      <td>shiloh</td>\n",
       "      <td>walker</td>\n",
       "    </tr>\n",
       "    <tr>\n",
       "      <th>671948</th>\n",
       "      <td>303</td>\n",
       "      <td>0</td>\n",
       "      <td>9.781496e+12</td>\n",
       "      <td>0</td>\n",
       "      <td>sales_ebook20170901_20170930.csv</td>\n",
       "      <td>0.000651</td>\n",
       "      <td>0.003075</td>\n",
       "      <td>0.001166</td>\n",
       "      <td>0.116733</td>\n",
       "      <td>0.002681</td>\n",
       "      <td>0.875694</td>\n",
       "      <td>shiloh</td>\n",
       "      <td>walker</td>\n",
       "    </tr>\n",
       "    <tr>\n",
       "      <th>671949</th>\n",
       "      <td>303</td>\n",
       "      <td>5757</td>\n",
       "      <td>9.781496e+12</td>\n",
       "      <td>19</td>\n",
       "      <td>sales_ebook20170901_20170930.csv</td>\n",
       "      <td>0.000651</td>\n",
       "      <td>0.003075</td>\n",
       "      <td>0.001166</td>\n",
       "      <td>0.116733</td>\n",
       "      <td>0.002681</td>\n",
       "      <td>0.875694</td>\n",
       "      <td>shiloh</td>\n",
       "      <td>walker</td>\n",
       "    </tr>\n",
       "    <tr>\n",
       "      <th>671950</th>\n",
       "      <td>399</td>\n",
       "      <td>798</td>\n",
       "      <td>9.783962e+12</td>\n",
       "      <td>2</td>\n",
       "      <td>sales_ebook20170901_20170930.csv</td>\n",
       "      <td>0.000903</td>\n",
       "      <td>0.012338</td>\n",
       "      <td>0.097451</td>\n",
       "      <td>0.065903</td>\n",
       "      <td>0.002437</td>\n",
       "      <td>0.820968</td>\n",
       "      <td>henry</td>\n",
       "      <td>lea</td>\n",
       "    </tr>\n",
       "    <tr>\n",
       "      <th>671951</th>\n",
       "      <td>399</td>\n",
       "      <td>798</td>\n",
       "      <td>9.783962e+12</td>\n",
       "      <td>2</td>\n",
       "      <td>sales_ebook20170801_20170831.csv</td>\n",
       "      <td>0.000903</td>\n",
       "      <td>0.012338</td>\n",
       "      <td>0.097451</td>\n",
       "      <td>0.065903</td>\n",
       "      <td>0.002437</td>\n",
       "      <td>0.820968</td>\n",
       "      <td>henry</td>\n",
       "      <td>lea</td>\n",
       "    </tr>\n",
       "  </tbody>\n",
       "</table>\n",
       "</div>"
      ],
      "text/plain": [
       "        price  totalrevenue        isbn13  soldunits   \n",
       "671947    314          2512  9.781496e+12          8  \\\n",
       "671948    303             0  9.781496e+12          0   \n",
       "671949    303          5757  9.781496e+12         19   \n",
       "671950    399           798  9.783962e+12          2   \n",
       "671951    399           798  9.783962e+12          2   \n",
       "\n",
       "                                filename    2PRACE  Hispanic       API   \n",
       "671947  sales_ebook20170901_20170930.csv  0.000651  0.003075  0.001166  \\\n",
       "671948  sales_ebook20170901_20170930.csv  0.000651  0.003075  0.001166   \n",
       "671949  sales_ebook20170901_20170930.csv  0.000651  0.003075  0.001166   \n",
       "671950  sales_ebook20170901_20170930.csv  0.000903  0.012338  0.097451   \n",
       "671951  sales_ebook20170801_20170831.csv  0.000903  0.012338  0.097451   \n",
       "\n",
       "           Black      AIAN     White first_name last_name  \n",
       "671947  0.116733  0.002681  0.875694     shiloh    walker  \n",
       "671948  0.116733  0.002681  0.875694     shiloh    walker  \n",
       "671949  0.116733  0.002681  0.875694     shiloh    walker  \n",
       "671950  0.065903  0.002437  0.820968      henry       lea  \n",
       "671951  0.065903  0.002437  0.820968      henry       lea  "
      ]
     },
     "execution_count": 65,
     "metadata": {},
     "output_type": "execute_result"
    }
   ],
   "source": [
    "df.tail()"
   ]
  },
  {
   "cell_type": "code",
   "execution_count": 76,
   "id": "aac8f566-1d75-4ff8-b457-b3b2462e1c27",
   "metadata": {},
   "outputs": [],
   "source": [
    "df['full_name'] = df['first_name'] + ' ' + df['last_name']"
   ]
  },
  {
   "cell_type": "code",
   "execution_count": 78,
   "id": "1d0cb503-5056-4188-aaac-bad49e827658",
   "metadata": {},
   "outputs": [],
   "source": [
    "df1 = df.groupby('full_name', as_index=False)['totalrevenue'].sum()"
   ]
  },
  {
   "cell_type": "code",
   "execution_count": 85,
   "id": "af06e389-c8f4-447c-9015-1d9adc4a58c6",
   "metadata": {},
   "outputs": [
    {
     "data": {
      "text/html": [
       "<div>\n",
       "<style scoped>\n",
       "    .dataframe tbody tr th:only-of-type {\n",
       "        vertical-align: middle;\n",
       "    }\n",
       "\n",
       "    .dataframe tbody tr th {\n",
       "        vertical-align: top;\n",
       "    }\n",
       "\n",
       "    .dataframe thead th {\n",
       "        text-align: right;\n",
       "    }\n",
       "</style>\n",
       "<table border=\"1\" class=\"dataframe\">\n",
       "  <thead>\n",
       "    <tr style=\"text-align: right;\">\n",
       "      <th></th>\n",
       "      <th>full_name</th>\n",
       "      <th>totalrevenue</th>\n",
       "    </tr>\n",
       "  </thead>\n",
       "  <tbody>\n",
       "    <tr>\n",
       "      <th>0</th>\n",
       "      <td>christine lehner</td>\n",
       "      <td>0</td>\n",
       "    </tr>\n",
       "    <tr>\n",
       "      <th>1</th>\n",
       "      <td>christine mann</td>\n",
       "      <td>14536</td>\n",
       "    </tr>\n",
       "    <tr>\n",
       "      <th>2</th>\n",
       "      <td>christine naman</td>\n",
       "      <td>19485</td>\n",
       "    </tr>\n",
       "    <tr>\n",
       "      <th>3</th>\n",
       "      <td>christine rimmer</td>\n",
       "      <td>1405736</td>\n",
       "    </tr>\n",
       "    <tr>\n",
       "      <th>4</th>\n",
       "      <td>christine ristaino</td>\n",
       "      <td>15820</td>\n",
       "    </tr>\n",
       "    <tr>\n",
       "      <th>...</th>\n",
       "      <td>...</td>\n",
       "      <td>...</td>\n",
       "    </tr>\n",
       "    <tr>\n",
       "      <th>3589</th>\n",
       "      <td>zietlow pat</td>\n",
       "      <td>1080812</td>\n",
       "    </tr>\n",
       "    <tr>\n",
       "      <th>3590</th>\n",
       "      <td>zig claybourne</td>\n",
       "      <td>0</td>\n",
       "    </tr>\n",
       "    <tr>\n",
       "      <th>3591</th>\n",
       "      <td>zoe forward</td>\n",
       "      <td>795</td>\n",
       "    </tr>\n",
       "    <tr>\n",
       "      <th>3592</th>\n",
       "      <td>zoe may</td>\n",
       "      <td>1412020</td>\n",
       "    </tr>\n",
       "    <tr>\n",
       "      <th>3593</th>\n",
       "      <td>Ã¡lvaro vargas</td>\n",
       "      <td>26073</td>\n",
       "    </tr>\n",
       "  </tbody>\n",
       "</table>\n",
       "<p>3594 rows × 2 columns</p>\n",
       "</div>"
      ],
      "text/plain": [
       "               full_name  totalrevenue\n",
       "0       christine lehner             0\n",
       "1         christine mann         14536\n",
       "2        christine naman         19485\n",
       "3       christine rimmer       1405736\n",
       "4     christine ristaino         15820\n",
       "...                  ...           ...\n",
       "3589         zietlow pat       1080812\n",
       "3590      zig claybourne             0\n",
       "3591         zoe forward           795\n",
       "3592             zoe may       1412020\n",
       "3593      Ã¡lvaro vargas         26073\n",
       "\n",
       "[3594 rows x 2 columns]"
      ]
     },
     "execution_count": 85,
     "metadata": {},
     "output_type": "execute_result"
    }
   ],
   "source": [
    "df1"
   ]
  },
  {
   "cell_type": "code",
   "execution_count": 91,
   "id": "6f184ebe-8474-4c46-8715-3a910aacff2e",
   "metadata": {},
   "outputs": [
    {
     "data": {
      "text/html": [
       "<div>\n",
       "<style scoped>\n",
       "    .dataframe tbody tr th:only-of-type {\n",
       "        vertical-align: middle;\n",
       "    }\n",
       "\n",
       "    .dataframe tbody tr th {\n",
       "        vertical-align: top;\n",
       "    }\n",
       "\n",
       "    .dataframe thead th {\n",
       "        text-align: right;\n",
       "    }\n",
       "</style>\n",
       "<table border=\"1\" class=\"dataframe\">\n",
       "  <thead>\n",
       "    <tr style=\"text-align: right;\">\n",
       "      <th></th>\n",
       "      <th>Rights Category</th>\n",
       "      <th>Genre</th>\n",
       "      <th>Date</th>\n",
       "      <th>Author(s)</th>\n",
       "      <th>Title</th>\n",
       "      <th>Publishers</th>\n",
       "      <th>Big Publishing House Affilation</th>\n",
       "      <th>Advance</th>\n",
       "      <th>Competition</th>\n",
       "      <th>Awards</th>\n",
       "      <th>Bestseller</th>\n",
       "      <th>Self Publishing</th>\n",
       "      <th>Debut</th>\n",
       "      <th>Series</th>\n",
       "      <th>All</th>\n",
       "    </tr>\n",
       "  </thead>\n",
       "  <tbody>\n",
       "    <tr>\n",
       "      <th>2</th>\n",
       "      <td>International rights</td>\n",
       "      <td>UK Fiction</td>\n",
       "      <td>2023-03-15</td>\n",
       "      <td>Kynpham Sing Nongkynrih</td>\n",
       "      <td>FUNERAL NIGHTS</td>\n",
       "      <td>['Stefan Tobler', 'And Other Stories', 'Tara T...</td>\n",
       "      <td>NaN</td>\n",
       "      <td>NICE</td>\n",
       "      <td>NaN</td>\n",
       "      <td>NaN</td>\n",
       "      <td>NaN</td>\n",
       "      <td>NaN</td>\n",
       "      <td>NaN</td>\n",
       "      <td>NaN</td>\n",
       "      <td>Indian writer Kynpham Sing Nongkynrih's FUNERA...</td>\n",
       "    </tr>\n",
       "    <tr>\n",
       "      <th>7</th>\n",
       "      <td>Fiction</td>\n",
       "      <td>Horror</td>\n",
       "      <td>2023-03-15</td>\n",
       "      <td>Chance Forshee</td>\n",
       "      <td>A TERRIFYING TOME OF TERROR</td>\n",
       "      <td>['Jennifer Barnes', 'Raw Dog Screaming Press']</td>\n",
       "      <td>NaN</td>\n",
       "      <td>NICE</td>\n",
       "      <td>NaN</td>\n",
       "      <td>NaN</td>\n",
       "      <td>NaN</td>\n",
       "      <td>NaN</td>\n",
       "      <td>NaN</td>\n",
       "      <td>NaN</td>\n",
       "      <td>The Curator of Horror, a bookseller, and host ...</td>\n",
       "    </tr>\n",
       "    <tr>\n",
       "      <th>13</th>\n",
       "      <td>Children's</td>\n",
       "      <td>Picture Book Fiction</td>\n",
       "      <td>2023-03-15</td>\n",
       "      <td>['Debra Buschman', 'Tom Uleau']</td>\n",
       "      <td>THE KNIGHT &amp; HIS TRUSTY</td>\n",
       "      <td>['Michele McAvoy', 'The Little Press']</td>\n",
       "      <td>NaN</td>\n",
       "      <td>NICE</td>\n",
       "      <td>NaN</td>\n",
       "      <td>NaN</td>\n",
       "      <td>NaN</td>\n",
       "      <td>NaN</td>\n",
       "      <td>NaN</td>\n",
       "      <td>NaN</td>\n",
       "      <td>SCBWI Wisconsin Regional Advisor Debra Buschma...</td>\n",
       "    </tr>\n",
       "    <tr>\n",
       "      <th>22</th>\n",
       "      <td>Children's</td>\n",
       "      <td>Graphic Novel</td>\n",
       "      <td>2023-03-14</td>\n",
       "      <td>Junepurrr</td>\n",
       "      <td>SUBZERO</td>\n",
       "      <td>['Desiree Rodriguez', 'Oni Press', 'Britt Sies...</td>\n",
       "      <td>NaN</td>\n",
       "      <td>VERY NICE</td>\n",
       "      <td>NaN</td>\n",
       "      <td>NaN</td>\n",
       "      <td>NaN</td>\n",
       "      <td>NaN</td>\n",
       "      <td>NaN</td>\n",
       "      <td>NaN</td>\n",
       "      <td>Creator of the webcomic series of the same nam...</td>\n",
       "    </tr>\n",
       "    <tr>\n",
       "      <th>42</th>\n",
       "      <td>Non-fiction</td>\n",
       "      <td>Food/ Beverage</td>\n",
       "      <td>2023-03-14</td>\n",
       "      <td>Sarah Thrush</td>\n",
       "      <td>PRESERVATION WITH A PURPOSE</td>\n",
       "      <td>['Dan Rosenberg', 'Harvard Common Press', 'Jan...</td>\n",
       "      <td>NaN</td>\n",
       "      <td>NICE</td>\n",
       "      <td>YES</td>\n",
       "      <td>NaN</td>\n",
       "      <td>NaN</td>\n",
       "      <td>NaN</td>\n",
       "      <td>NaN</td>\n",
       "      <td>NaN</td>\n",
       "      <td>Homesteading economist, teacher, and naturalis...</td>\n",
       "    </tr>\n",
       "  </tbody>\n",
       "</table>\n",
       "</div>"
      ],
      "text/plain": [
       "         Rights Category                 Genre       Date   \n",
       "2   International rights            UK Fiction 2023-03-15  \\\n",
       "7                Fiction                Horror 2023-03-15   \n",
       "13            Children's  Picture Book Fiction 2023-03-15   \n",
       "22            Children's         Graphic Novel 2023-03-14   \n",
       "42           Non-fiction        Food/ Beverage 2023-03-14   \n",
       "\n",
       "                          Author(s)                        Title   \n",
       "2           Kynpham Sing Nongkynrih               FUNERAL NIGHTS  \\\n",
       "7                    Chance Forshee  A TERRIFYING TOME OF TERROR   \n",
       "13  ['Debra Buschman', 'Tom Uleau']      THE KNIGHT & HIS TRUSTY   \n",
       "22                        Junepurrr                      SUBZERO   \n",
       "42                     Sarah Thrush  PRESERVATION WITH A PURPOSE   \n",
       "\n",
       "                                           Publishers   \n",
       "2   ['Stefan Tobler', 'And Other Stories', 'Tara T...  \\\n",
       "7      ['Jennifer Barnes', 'Raw Dog Screaming Press']   \n",
       "13             ['Michele McAvoy', 'The Little Press']   \n",
       "22  ['Desiree Rodriguez', 'Oni Press', 'Britt Sies...   \n",
       "42  ['Dan Rosenberg', 'Harvard Common Press', 'Jan...   \n",
       "\n",
       "   Big Publishing House Affilation    Advance Competition Awards Bestseller   \n",
       "2                              NaN       NICE         NaN    NaN        NaN  \\\n",
       "7                              NaN       NICE         NaN    NaN        NaN   \n",
       "13                             NaN       NICE         NaN    NaN        NaN   \n",
       "22                             NaN  VERY NICE         NaN    NaN        NaN   \n",
       "42                             NaN       NICE         YES    NaN        NaN   \n",
       "\n",
       "   Self Publishing Debut Series   \n",
       "2              NaN   NaN    NaN  \\\n",
       "7              NaN   NaN    NaN   \n",
       "13             NaN   NaN    NaN   \n",
       "22             NaN   NaN    NaN   \n",
       "42             NaN   NaN    NaN   \n",
       "\n",
       "                                                  All  \n",
       "2   Indian writer Kynpham Sing Nongkynrih's FUNERA...  \n",
       "7   The Curator of Horror, a bookseller, and host ...  \n",
       "13  SCBWI Wisconsin Regional Advisor Debra Buschma...  \n",
       "22  Creator of the webcomic series of the same nam...  \n",
       "42  Homesteading economist, teacher, and naturalis...  "
      ]
     },
     "execution_count": 91,
     "metadata": {},
     "output_type": "execute_result"
    }
   ],
   "source": [
    "df_advances.head()"
   ]
  },
  {
   "cell_type": "code",
   "execution_count": 89,
   "id": "9a95456a-d163-4cde-8ea9-8c38838297c1",
   "metadata": {},
   "outputs": [],
   "source": [
    "p = pd.read_excel('Files/authors_and_books 3.xlsx')"
   ]
  },
  {
   "cell_type": "code",
   "execution_count": 92,
   "id": "50a7fba8-cfc5-466f-a376-964556fd677c",
   "metadata": {},
   "outputs": [],
   "source": [
    "z = pd.merge(df_advances, p, left_on='Author(s)', right_on = 'author')"
   ]
  },
  {
   "cell_type": "code",
   "execution_count": 99,
   "id": "7bca2c17-cae5-4222-9706-1cfefa172ac5",
   "metadata": {},
   "outputs": [],
   "source": [
    "z =z[~z['isbn13'].isna()]\n",
    "z = z[~z['Advance'].isna()]\n",
    "deals = {\n",
    "    'NICE' : (1+49000)/2,\n",
    "    'VERY NICE' : (50000 + 99000)/2,\n",
    "    'GOOD' : (100000 + 250000)/2,\n",
    "    'SIGNIFICANT' : (251000 + 499000)/2,\n",
    "    'MAJOR' : (500000 + 750000)/2\n",
    "}\n",
    "\n",
    "z['Advance'] = z['Advance'].replace(deals)"
   ]
  },
  {
   "cell_type": "code",
   "execution_count": 102,
   "id": "6bd87c98-6cc9-4284-8c1f-739e74ed98b4",
   "metadata": {},
   "outputs": [],
   "source": [
    "z.to_csv('Advance+isbn13.csv')"
   ]
  },
  {
   "cell_type": "code",
   "execution_count": 107,
   "id": "9efd3427-16de-4a1f-8311-c040e764b4a4",
   "metadata": {},
   "outputs": [],
   "source": [
    "cvs = pd.merge(df, z, on='isbn13')"
   ]
  },
  {
   "cell_type": "code",
   "execution_count": 108,
   "id": "0621bc52-a11a-4158-97bf-3c0ae7521846",
   "metadata": {},
   "outputs": [
    {
     "data": {
      "text/html": [
       "<div>\n",
       "<style scoped>\n",
       "    .dataframe tbody tr th:only-of-type {\n",
       "        vertical-align: middle;\n",
       "    }\n",
       "\n",
       "    .dataframe tbody tr th {\n",
       "        vertical-align: top;\n",
       "    }\n",
       "\n",
       "    .dataframe thead th {\n",
       "        text-align: right;\n",
       "    }\n",
       "</style>\n",
       "<table border=\"1\" class=\"dataframe\">\n",
       "  <thead>\n",
       "    <tr style=\"text-align: right;\">\n",
       "      <th></th>\n",
       "      <th>price</th>\n",
       "      <th>totalrevenue</th>\n",
       "      <th>isbn13</th>\n",
       "      <th>soldunits</th>\n",
       "      <th>filename</th>\n",
       "      <th>2PRACE</th>\n",
       "      <th>Hispanic</th>\n",
       "      <th>API</th>\n",
       "      <th>Black</th>\n",
       "      <th>AIAN</th>\n",
       "      <th>...</th>\n",
       "      <th>Bestseller</th>\n",
       "      <th>Self Publishing</th>\n",
       "      <th>Debut</th>\n",
       "      <th>Series</th>\n",
       "      <th>All</th>\n",
       "      <th>title</th>\n",
       "      <th>datepublished</th>\n",
       "      <th>author</th>\n",
       "      <th>author_first_name</th>\n",
       "      <th>author_last_name</th>\n",
       "    </tr>\n",
       "  </thead>\n",
       "  <tbody>\n",
       "  </tbody>\n",
       "</table>\n",
       "<p>0 rows × 34 columns</p>\n",
       "</div>"
      ],
      "text/plain": [
       "Empty DataFrame\n",
       "Columns: [price, totalrevenue, isbn13, soldunits, filename, 2PRACE, Hispanic, API, Black, AIAN, White, first_name, last_name, full_name, Rights Category, Genre, Date, Author(s), Title, Publishers, Big Publishing House Affilation, Advance, Competition, Awards, Bestseller, Self Publishing, Debut, Series, All, title, datepublished, author, author_first_name, author_last_name]\n",
       "Index: []\n",
       "\n",
       "[0 rows x 34 columns]"
      ]
     },
     "execution_count": 108,
     "metadata": {},
     "output_type": "execute_result"
    }
   ],
   "source": [
    "cvs"
   ]
  },
  {
   "cell_type": "code",
   "execution_count": null,
   "id": "bfd7508b-47e7-402e-80f4-16df45c335df",
   "metadata": {},
   "outputs": [],
   "source": []
  }
 ],
 "metadata": {
  "kernelspec": {
   "display_name": "Python 3",
   "language": "python",
   "name": "python3"
  },
  "language_info": {
   "codemirror_mode": {
    "name": "ipython",
    "version": 3
   },
   "file_extension": ".py",
   "mimetype": "text/x-python",
   "name": "python",
   "nbconvert_exporter": "python",
   "pygments_lexer": "ipython3",
   "version": "3.8.8"
  }
 },
 "nbformat": 4,
 "nbformat_minor": 5
}
