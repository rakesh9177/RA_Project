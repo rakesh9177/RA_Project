{
 "cells": [
  {
   "cell_type": "markdown",
   "id": "80d83de8-6ce0-4e08-9755-95901c30cef9",
   "metadata": {},
   "source": [
    "# Scraping by title"
   ]
  },
  {
   "cell_type": "code",
   "execution_count": null,
   "id": "d2f375f8-e9fd-41f9-ad5e-5a3273164454",
   "metadata": {},
   "outputs": [],
   "source": [
    "import requests\n",
    "import json\n",
    "import pandas as pd\n",
    "import time\n",
    "\n",
    "#response = requests.get('https://www.googleapis.com/books/v1/volumes?q=inauthor:Caitlin Kelly')\n",
    "url = 'https://www.googleapis.com/books/v1/volumes'\n",
    "title_searchables = pd.read_csv('isbn13_1.csv')\n",
    "df = pd.DataFrame(columns=['Author', 'Title', 'PublishedDate', 'ISBN13'])\n",
    "\n",
    "i=0\n",
    "n = title_searchables['title'].shape[0]\n",
    "for titlesearch in title_searchables['title']:\n",
    "    #print(f\"Searching books for author {titlesearch}\")\n",
    "    params = {\n",
    "        'q': f'intitle:\"{titlesearch}\"', \n",
    "        'startIndex': 0 \n",
    "    }\n",
    "\n",
    "    all_books = []\n",
    "\n",
    "\n",
    "    while True:\n",
    "        response = requests.get(url, params=params)\n",
    "        data = json.loads(response.content)\n",
    "\n",
    "        if 'items' in data:\n",
    "            all_books.extend(data['items'])\n",
    "\n",
    "        total_items = data.get('totalItems', 0)\n",
    "        current_items = len(all_books)\n",
    "\n",
    "        if current_items >= total_items:\n",
    "            break\n",
    "\n",
    "        params['startIndex'] = current_items\n",
    "    #print(\"All books = \",len(all_books))\n",
    "    for book in all_books:\n",
    "        # Access book details using book['volumeInfo']\n",
    "            #\n",
    "            identifiers = book[\"volumeInfo\"].get(\"industryIdentifiers\", [])\n",
    "            if 'authors' not in book[\"volumeInfo\"] or 'publishedDate' not in book[\"volumeInfo\"] or 'title' not in book[\"volumeInfo\"]:\n",
    "                continue\n",
    "            title = book[\"volumeInfo\"][\"title\"]\n",
    "            author = book[\"volumeInfo\"][\"authors\"]\n",
    "            publishedDate = book[\"volumeInfo\"][\"publishedDate\"]\n",
    "            isbn13 = 'None'\n",
    "            for identifier in identifiers:\n",
    "                if identifier[\"type\"] == \"ISBN_13\":\n",
    "                    isbn13 = (identifier[\"identifier\"])\n",
    "                    break\n",
    "            if isbn13 == 'None':\n",
    "                continue\n",
    "            new_data = ({'Title': title, \n",
    "                    'Author': author, \n",
    "                    'PublishedDate': publishedDate, \n",
    "                    'ISBN13': isbn13})\n",
    "            new_row = pd.DataFrame(new_data)\n",
    "            df = pd.concat([df, new_row], ignore_index=True)\n",
    "            df = df.drop_duplicates(subset=\"ISBN13\")\n",
    "    i+=1\n",
    "    if i%100 ==0:\n",
    "        print(i)\n",
    "        time.sleep(1)\n",
    "        df.to_csv('All_isbn13_1.csv')"
   ]
  },
  {
   "cell_type": "code",
   "execution_count": null,
   "id": "c755d21d-4a96-41d4-9153-ff2a688742c5",
   "metadata": {},
   "outputs": [],
   "source": []
  }
 ],
 "metadata": {
  "kernelspec": {
   "display_name": "Python 3",
   "language": "python",
   "name": "python3"
  },
  "language_info": {
   "codemirror_mode": {
    "name": "ipython",
    "version": 3
   },
   "file_extension": ".py",
   "mimetype": "text/x-python",
   "name": "python",
   "nbconvert_exporter": "python",
   "pygments_lexer": "ipython3",
   "version": "3.8.8"
  }
 },
 "nbformat": 4,
 "nbformat_minor": 5
}
