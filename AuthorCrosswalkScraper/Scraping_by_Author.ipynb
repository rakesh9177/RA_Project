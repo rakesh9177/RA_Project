{
 "cells": [
  {
   "cell_type": "markdown",
   "id": "9baabfa0-c8de-449c-9bed-531d035d4f2b",
   "metadata": {},
   "source": [
    "## Scraping by Author Name"
   ]
  },
  {
   "cell_type": "code",
   "execution_count": null,
   "id": "7ff8a8c6-33f9-403a-8313-a7712f5c40d3",
   "metadata": {},
   "outputs": [],
   "source": [
    "import requests\n",
    "import json\n",
    "import pandas as pd\n",
    "import time\n",
    "\n",
    "#response = requests.get('https://www.googleapis.com/books/v1/volumes?q=inauthor:Caitlin Kelly')\n",
    "url = 'https://www.googleapis.com/books/v1/volumes'\n",
    "\n",
    "author_searchables = pd.read_csv('isbn13_1.csv')\n",
    "df = pd.DataFrame(columns=['author', 'title', 'datepublished', 'isbn13'])\n",
    "\n",
    "authors = author_searchables['author'].unique()\n",
    "print(authors.shape)\n",
    "i=0\n",
    "for authorsearch in authors:\n",
    "    #print(f\"Searching books for author {authorsearch}\")\n",
    "    if i<10700:\n",
    "        i=i+1\n",
    "        continue\n",
    "    params = {\n",
    "        'q': f'inauthor:{authorsearch}', \n",
    "        'startIndex': 0 \n",
    "    }\n",
    "\n",
    "    all_books = []\n",
    "\n",
    "\n",
    "    while True:\n",
    "        response = requests.get(url, params=params)\n",
    "        data = json.loads(response.content)\n",
    "        #print(data)\n",
    "        if 'items' in data:\n",
    "            all_books.extend(data['items'])\n",
    "\n",
    "        total_items = data.get('totalItems', 0)\n",
    "        current_items = len(all_books)\n",
    "\n",
    "        if current_items >= total_items:\n",
    "            break\n",
    "\n",
    "        params['startIndex'] = current_items\n",
    "    #print(\"All books = \",len(all_books))\n",
    "    for book in all_books:\n",
    "        # Access book details using book['volumeInfo']\n",
    "            identifiers = book[\"volumeInfo\"].get(\"industryIdentifiers\", [])\n",
    "            if 'authors' not in book[\"volumeInfo\"] or 'publishedDate' not in book[\"volumeInfo\"] or 'title' not in book[\"volumeInfo\"]:\n",
    "                continue\n",
    "            title = book[\"volumeInfo\"][\"title\"]\n",
    "            author = book[\"volumeInfo\"][\"authors\"]\n",
    "            publishedDate = book[\"volumeInfo\"][\"publishedDate\"][:4]\n",
    "            isbn13 = 'None'\n",
    "            for identifier in identifiers:\n",
    "                if identifier[\"type\"] == \"ISBN_13\":\n",
    "                    isbn13 = (identifier[\"identifier\"])\n",
    "                    break\n",
    "            if isbn13 == 'None':\n",
    "                continue\n",
    "            new_data = ({'Title': title, \n",
    "                    'Author': [author], \n",
    "                    'PublishedDate': publishedDate, \n",
    "                    'ISBN13': isbn13})\n",
    "            new_row = pd.DataFrame(new_data)\n",
    "            df = pd.concat([df, new_row], ignore_index=True)\n",
    "            df = df.drop_duplicates(subset=\"ISBN13\")\n",
    "    i+=1\n",
    "    if i%100 ==0:\n",
    "        print(i)\n",
    "        time.sleep(1) #Using 1 sec delay since there is a request limit of 100 per sec for google books api\n",
    "        df.to_csv('All_isbn13_for_sales_by_Author_7.csv')"
   ]
  },
  {
   "cell_type": "markdown",
   "id": "2de7465a-de72-4bb8-a89e-48e8c7f79c46",
   "metadata": {},
   "source": [
    "# Below code is for testing only"
   ]
  },
  {
   "cell_type": "code",
   "execution_count": null,
   "id": "146fdf4b-fa3a-41a0-8339-6f87b6b13a75",
   "metadata": {},
   "outputs": [],
   "source": [
    "df.to_csv('Google_Author_crosswalk_adv.csv')"
   ]
  },
  {
   "cell_type": "code",
   "execution_count": null,
   "id": "17898bf2-e004-46e7-b432-25e1436e4ba7",
   "metadata": {},
   "outputs": [],
   "source": [
    "import pandas as pd\n",
    "import spacy\n",
    "import re\n",
    "from fuzzywuzzy import fuzz\n",
    "# Load the English language model in spaCy\n",
    "nlp = spacy.load('en_core_web_sm')"
   ]
  },
  {
   "cell_type": "code",
   "execution_count": null,
   "id": "70bb7ec5-3e0f-439d-9f60-c63a4bcd4e3c",
   "metadata": {},
   "outputs": [],
   "source": [
    "def get_advances_data():\n",
    "    \n",
    "    adv = pd.read_excel('../author_advance_dataset.xlsx', index_col=0)\n",
    "    adv = adv[~adv['Advance'].isna()]\n",
    "    deals = {\n",
    "    'NICE' : (1+49000)/2,\n",
    "    'VERY NICE' : (50000 + 99000)/2,\n",
    "    'GOOD' : (100000 + 250000)/2,\n",
    "    'SIGNIFICANT' : (251000 + 499000)/2,\n",
    "    'MAJOR' : (500000 + 750000)/2\n",
    "    }\n",
    "    adv['Advance'] = adv['Advance'].replace(deals)\n",
    "\n",
    "    adv.reset_index(inplace=True)\n",
    "    adv.rename(columns={'index': 'advance_id'}, inplace=True) \n",
    "    return adv\n",
    "\n",
    "def extract_author_name_1(text):\n",
    "    doc = nlp(text)\n",
    "    for entity in doc.ents:\n",
    "        if entity.label_ == 'PERSON' and (\"'s\" in entity.text or \"'\" in entity.text):\n",
    "            return entity.text\n",
    "    return None\n",
    "\n",
    "\n",
    "def extract_author_name_2(text):\n",
    "    doc = nlp(text)\n",
    "    for entity in doc.ents:\n",
    "        if entity.label_ == 'PERSON' :#and (\"'s\" in entity.text or \"'\" in entity.text):\n",
    "            return entity.text\n",
    "    return None\n",
    "\n",
    "def author_extraction(adv):\n",
    "    adv['Author_extracted'] = adv['All'].apply(lambda x: extract_author_name_1(x))\n",
    "    adv.loc[(adv['Author_extracted'].isna()) & ((adv['Author(s)'] == 'NONE') | (adv['Author(s)'] == 'All')), 'Author_extracted'] = adv.loc[(adv['Author_extracted'].isna()) & ((adv['Author(s)'] == 'NONE') | (adv['Author(s)'] == 'All')), 'All'].apply(lambda x: extract_author_name_2(x))\n",
    "    adv.loc[(adv['Author_extracted'].isna()) & (adv['Author(s)'] != 'NONE'), 'Author_extracted'] = adv.loc[(adv['Author_extracted'].isna()) & (adv['Author(s)'] != 'NONE'), 'Author(s)'] \n",
    "    adv['Author_extracted'] = adv['Author_extracted'].str.replace(\"'s\", \"\")\n",
    "    adv['Author_extracted'] = adv['Author_extracted'].str.replace(\"'\", \"\")\n",
    "    adv['Author_extracted'] = adv['Author_extracted'].str.lower()\n",
    "    return adv"
   ]
  },
  {
   "cell_type": "code",
   "execution_count": null,
   "id": "0520466c-65e7-46fd-92ad-be4094b11c27",
   "metadata": {},
   "outputs": [],
   "source": [
    "adv = pd.read_csv('x1.csv')"
   ]
  },
  {
   "cell_type": "code",
   "execution_count": null,
   "id": "49f39c44-c87f-4548-a56e-24862f18ba00",
   "metadata": {},
   "outputs": [],
   "source": [
    "adv = author_extraction(adv)"
   ]
  },
  {
   "cell_type": "code",
   "execution_count": null,
   "id": "4d5fc1c3-fa12-462a-b479-3d7394338333",
   "metadata": {},
   "outputs": [],
   "source": [
    "adv.head()"
   ]
  },
  {
   "cell_type": "code",
   "execution_count": null,
   "id": "9a70f992-b3c5-460b-8a65-d6d62f50d6d1",
   "metadata": {},
   "outputs": [],
   "source": [
    "authors = adv['Author_extracted'].unique()\n"
   ]
  },
  {
   "cell_type": "code",
   "execution_count": null,
   "id": "f2c1024b-4bd7-40f3-9acd-1dcd76c373c0",
   "metadata": {},
   "outputs": [],
   "source": [
    "authors.shape"
   ]
  },
  {
   "cell_type": "code",
   "execution_count": null,
   "id": "29ffea71-4fa1-49d4-9d25-6650724ba060",
   "metadata": {},
   "outputs": [],
   "source": [
    "import requests\n",
    "import json\n",
    "import pandas as pd\n",
    "\n",
    "url = 'https://www.googleapis.com/books/v1/volumes'\n",
    "df1 = pd.DataFrame(columns=['Author', 'Title', 'PublishedDate', 'ISBN13'])\n",
    "\n",
    "params = {\n",
    "        'q': f'inauthor:Brandy Thomas', \n",
    "        'startIndex': 0 \n",
    "    }\n",
    "\n",
    "all_books = []\n",
    "\n",
    "\n",
    "while True:\n",
    "        response = requests.get(url, params=params)\n",
    "        data = json.loads(response.content)\n",
    "\n",
    "        if 'items' in data:\n",
    "            all_books.extend(data['items'])\n",
    "\n",
    "        total_items = data.get('totalItems', 0)\n",
    "        current_items = len(all_books)\n",
    "\n",
    "        if current_items >= total_items:\n",
    "            break\n",
    "\n",
    "        params['startIndex'] = current_items\n",
    "    #print(\"All books = \",len(all_books))\n",
    "for book in all_books:\n",
    "        # Access book details using book['volumeInfo']\n",
    "            identifiers = book[\"volumeInfo\"].get(\"industryIdentifiers\", [])\n",
    "            if 'authors' not in book[\"volumeInfo\"] or 'publishedDate' not in book[\"volumeInfo\"] or 'title' not in book[\"volumeInfo\"]:\n",
    "                continue\n",
    "            title = book[\"volumeInfo\"][\"title\"]\n",
    "            author = book[\"volumeInfo\"][\"authors\"]\n",
    "            publishedDate = book[\"volumeInfo\"][\"publishedDate\"][:4]\n",
    "            isbn13 = 'None'\n",
    "            for identifier in identifiers:\n",
    "                if identifier[\"type\"] == \"ISBN_13\":\n",
    "                    isbn13 = (identifier[\"identifier\"])\n",
    "                    break\n",
    "            if isbn13 == 'None':\n",
    "                continue\n",
    "            new_data = ({'Title': title, \n",
    "                    'Author': [author], \n",
    "                    'PublishedDate': publishedDate, \n",
    "                    'ISBN13': isbn13})\n",
    "            new_row = pd.DataFrame(new_data)\n",
    "            df1 = pd.concat([df1, new_row], ignore_index=True)\n",
    "            df1 = df1.drop_duplicates(subset=\"ISBN13\")"
   ]
  },
  {
   "cell_type": "code",
   "execution_count": null,
   "id": "20da896b-bc01-48f8-bf78-0d0e8110109f",
   "metadata": {},
   "outputs": [],
   "source": [
    "type(df1['Author'][0])"
   ]
  },
  {
   "cell_type": "code",
   "execution_count": null,
   "id": "74175874-7df3-4ddd-adec-aab8a8f34ce1",
   "metadata": {},
   "outputs": [],
   "source": [
    "df1['Author'] = df1['Author'].astype(str)"
   ]
  },
  {
   "cell_type": "code",
   "execution_count": null,
   "id": "43c6f047-f24d-45d4-a390-3b58bda37c03",
   "metadata": {},
   "outputs": [],
   "source": [
    "type(df1['Author'][0])"
   ]
  },
  {
   "cell_type": "code",
   "execution_count": null,
   "id": "95ae42e2-fd9a-4df6-aa9e-786a0107e7db",
   "metadata": {},
   "outputs": [],
   "source": [
    "df1['Author'][0]"
   ]
  },
  {
   "cell_type": "code",
   "execution_count": null,
   "id": "263df3b7-f76c-4eff-8655-32f86afd99c6",
   "metadata": {},
   "outputs": [],
   "source": []
  }
 ],
 "metadata": {
  "kernelspec": {
   "display_name": "Python 3",
   "language": "python",
   "name": "python3"
  },
  "language_info": {
   "codemirror_mode": {
    "name": "ipython",
    "version": 3
   },
   "file_extension": ".py",
   "mimetype": "text/x-python",
   "name": "python",
   "nbconvert_exporter": "python",
   "pygments_lexer": "ipython3",
   "version": "3.8.8"
  }
 },
 "nbformat": 4,
 "nbformat_minor": 5
}
